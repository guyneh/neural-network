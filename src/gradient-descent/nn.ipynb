{
 "cells": [
  {
   "cell_type": "markdown",
   "metadata": {},
   "source": [
    "# Neural Network for MNIST dataset of digit recognition\n",
    "\n",
    "-   Similar to scipy-optimise but with custom encoded gradient descent function\n",
    "-   Compares a range of optimisers, activation function and loss function + regularisation choices"
   ]
  },
  {
   "cell_type": "code",
   "execution_count": 50,
   "metadata": {},
   "outputs": [],
   "source": [
    "from scipy.io import loadmat\n",
    "import numpy as np\n",
    "from tkinter import *\n",
    "from PIL import ImageGrab\n",
    "import matplotlib.pyplot as plt\n",
    "from prettytable import PrettyTable\n",
    "from IPython.display import clear_output"
   ]
  },
  {
   "cell_type": "code",
   "execution_count": 31,
   "metadata": {},
   "outputs": [],
   "source": [
    "# HYPERPARAMETERS\n",
    "normalisation_factor = 1/255        # Each pixel = 8-bit integer (0-255)\n",
    "input_layer_size = 28 * 28          # Number of features (pixels)\n",
    "hidden_layer_size = 100             # Number of hidden units\n",
    "num_labels = 10                     # Number of labels (0-9)\n",
    "maxiter = 100                       # Maximum number of iterations for optimisation\n",
    "lambda_reg = 0.1                    # Regularisation parameter (prevents overfitting)\n",
    "epsilon = 0.15                      # Random initialisation parameter (prevents symmetry)\n",
    "alpha = 0.1                         # Learning rate for gradient descent"
   ]
  },
  {
   "cell_type": "code",
   "execution_count": 17,
   "metadata": {},
   "outputs": [
    {
     "name": "stdout",
     "output_type": "stream",
     "text": [
      "Keys:  dict_keys(['__header__', '__version__', '__globals__', 'mldata_descr_ordering', 'data', 'label'])\n",
      "Dataset shape:  (784, 70000)\n"
     ]
    }
   ],
   "source": [
    "# Load mat file of data\n",
    "data = loadmat('../../data/mnist-original.mat')\n",
    "print(\"Keys: \", data.keys())\n",
    "print(\"Dataset shape: \", data['data'].shape)"
   ]
  },
  {
   "cell_type": "code",
   "execution_count": 18,
   "metadata": {},
   "outputs": [
    {
     "name": "stdout",
     "output_type": "stream",
     "text": [
      "Data, X:\n",
      "  [[0. 0. 0. ... 0. 0. 0.]\n",
      " [0. 0. 0. ... 0. 0. 0.]\n",
      " [0. 0. 0. ... 0. 0. 0.]\n",
      " ...\n",
      " [0. 0. 0. ... 0. 0. 0.]\n",
      " [0. 0. 0. ... 0. 0. 0.]\n",
      " [0. 0. 0. ... 0. 0. 0.]] \n",
      " (70000, 784)\n",
      "\n",
      "Labels, y:\n",
      "  [0. 0. 0. ... 9. 9. 9.] \n",
      " (70000,)\n"
     ]
    }
   ],
   "source": [
    "# Extract features and transpose\n",
    "X = data['data'].T\n",
    "\n",
    "# Normalise the data so that each pixel is in the range [0, 1]\n",
    "X = X * normalisation_factor\n",
    "\n",
    "# Extract labels from data and flatten\n",
    "y = data['label'].flatten()\n",
    "\n",
    "print(\"Data, X:\\n \", X, \"\\n\", X.shape)\n",
    "print(\"\\nLabels, y:\\n \", y, \"\\n\", y.shape)"
   ]
  },
  {
   "cell_type": "code",
   "execution_count": 19,
   "metadata": {},
   "outputs": [
    {
     "name": "stdout",
     "output_type": "stream",
     "text": [
      "Training size:  (60000, 784) (60000,)\n",
      "Testing size:  (10000, 784) (10000,)\n"
     ]
    }
   ],
   "source": [
    "# Split data into training set with 60,000 samples and test set with 10,000 samples (capital for matrix, lower case for vector)\n",
    "X_train = X[:60000, :]\n",
    "y_train = y[:60000]\n",
    "print(\"Training size: \", X_train.shape, y_train.shape)\n",
    "\n",
    "# (2nd colon specifies all columns)\n",
    "X_test = X[60000:, :]\n",
    "y_test = y[60000:]\n",
    "print(\"Testing size: \", X_test.shape, y_test.shape)"
   ]
  },
  {
   "cell_type": "code",
   "execution_count": 20,
   "metadata": {},
   "outputs": [
    {
     "data": {
      "image/png": "[encoded data removed]",
      "text/plain": [
       "<Figure size 1000x500 with 10 Axes>"
      ]
     },
     "metadata": {},
     "output_type": "display_data"
    }
   ],
   "source": [
    "# Display a sample image (random by default)\n",
    "def show_image(X, y, index=None):\n",
    "    # Choose a random index if none is provided\n",
    "    if index is None:\n",
    "        N = X.shape[0]\n",
    "        index = np.random.randint(0, N - 1)\n",
    "    \n",
    "    # Extract image data and label\n",
    "    image = X[index].reshape(28, 28)\n",
    "    label = y[index]\n",
    "    \n",
    "    # Display image and label\n",
    "    plt.imshow(image, cmap='gray')\n",
    "    plt.title(f\"Label: {label}\")\n",
    "    plt.axis('off')\n",
    "    plt.show()\n",
    "    \n",
    "# Display a grid of 5 columns and 2 rows with each of the digits in the dataset\n",
    "def show_digit_grid(X, y):\n",
    "    fig, axes = plt.subplots(2, 5, figsize=(10, 5))\n",
    "    digits_shown = set()\n",
    "\n",
    "    for i in range(2):\n",
    "        for j in range(5):\n",
    "            # Choose a random index for each digit\n",
    "            digit_to_show = len(digits_shown)\n",
    "            indices = np.where(y == digit_to_show)[0]\n",
    "            random_index = np.random.choice(indices)\n",
    "            image = X[random_index].reshape(28, 28)\n",
    "            label = y[random_index]\n",
    "\n",
    "            # Display image and label\n",
    "            axes[i, j].imshow(image, cmap='gray')\n",
    "            axes[i, j].set_title(f\"Label: {label}\")\n",
    "            axes[i, j].axis('off')\n",
    "            digits_shown.add(label)\n",
    "\n",
    "    plt.tight_layout()\n",
    "    plt.show()\n",
    "\n",
    "# Display a grid of random images for each digit\n",
    "show_digit_grid(X, y)\n"
   ]
  },
  {
   "cell_type": "code",
   "execution_count": 22,
   "metadata": {},
   "outputs": [
    {
     "name": "stdout",
     "output_type": "stream",
     "text": [
      "Theta1:\n",
      "  [[-0.12729579 -0.10881795  0.0268361  ...  0.02030244  0.03735491\n",
      "   0.06134933]\n",
      " [ 0.11801911 -0.06463173  0.11111853 ... -0.05031662 -0.04322473\n",
      "   0.05415776]\n",
      " [ 0.05548771 -0.12775387 -0.01602256 ...  0.0499343  -0.05422896\n",
      "   0.13064536]\n",
      " ...\n",
      " [ 0.13731072 -0.12020051  0.13308508 ...  0.07195092  0.01430515\n",
      "  -0.09041256]\n",
      " [ 0.06679401 -0.02114762 -0.07567985 ... -0.00550887 -0.05379714\n",
      "  -0.10331709]\n",
      " [ 0.07457845 -0.01617947 -0.10988242 ...  0.02960868 -0.10867349\n",
      "   0.02417011]] \n",
      " (100, 785)\n",
      "\n",
      "Theta2:\n",
      "  [[-0.02671766 -0.10911638 -0.12422917 ...  0.07424754 -0.11809948\n",
      "   0.07676346]\n",
      " [-0.0581234   0.02536127  0.13569931 ... -0.11297417 -0.0617823\n",
      "   0.13432197]\n",
      " [-0.06413742  0.02824979 -0.02997287 ... -0.02551444  0.0395077\n",
      "  -0.06724985]\n",
      " ...\n",
      " [ 0.12090163  0.03173986 -0.06382144 ... -0.05248347 -0.05077927\n",
      "  -0.0804784 ]\n",
      " [-0.00445684 -0.10600637 -0.03680197 ... -0.00270597  0.10367062\n",
      "  -0.08435728]\n",
      " [ 0.09695147 -0.04276029 -0.14376433 ... -0.11856814 -0.05265843\n",
      "   0.06999311]] \n",
      " (10, 101)\n"
     ]
    }
   ],
   "source": [
    "# Function to randomly initialise Thetas (weights) between a range of [-epsilon, epsilon]\n",
    "def initialise(a, b, epsilon):\n",
    "    # Scale and shift random values to be within range\n",
    "    c = (np.random.rand(a, b + 1) * (2 * epsilon)) - epsilon\n",
    "    \n",
    "    # Returns matrix of randomly initialised weights, of dimensions a x (b + 1)\n",
    "    return c\n",
    "\n",
    "# epsilon chosen arbitrarily (small enough to avoid saturation and large enough to avoid vanishing gradients)\n",
    "initial_Theta1 = initialise(hidden_layer_size, input_layer_size, epsilon)\n",
    "initial_Theta2 = initialise(num_labels, hidden_layer_size, epsilon)\n",
    "print(\"Theta1:\\n \", initial_Theta1, \"\\n\", initial_Theta1.shape)\n",
    "print(\"\\nTheta2:\\n \", initial_Theta2, \"\\n\", initial_Theta2.shape)"
   ]
  },
  {
   "cell_type": "code",
   "execution_count": 23,
   "metadata": {},
   "outputs": [
    {
     "name": "stdout",
     "output_type": "stream",
     "text": [
      "Initial parameters:\n",
      "  [-0.12729579 -0.10881795  0.0268361  ... -0.11856814 -0.05265843\n",
      "  0.06999311] \n",
      " (79510,)\n"
     ]
    }
   ],
   "source": [
    "# Unroll (combine) the weight matrices into a single column vector (easier for optimisation algorithm)\n",
    "initial_nn_params = np.concatenate((initial_Theta1.flatten(), initial_Theta2.flatten()))\n",
    "print(\"Initial parameters:\\n \", initial_nn_params, \"\\n\", initial_nn_params.shape)"
   ]
  },
  {
   "cell_type": "markdown",
   "metadata": {},
   "source": [
    "#### Why 79,510?\n",
    "`Theta1`\n",
    "-   hidden_layer_size * (input_layer_size + 1)\n",
    "-   100 * (784 + 1)\n",
    "-   78,500\n",
    "\n",
    "`Theta2`\n",
    "-   num_labels * (hidden_layer_size + 1)\n",
    "-   10 * (100 + 1)\n",
    "-   1,010\n",
    "\n",
    "`TOTAL`\n",
    "-   79,510"
   ]
  },
  {
   "cell_type": "code",
   "execution_count": 24,
   "metadata": {},
   "outputs": [
    {
     "name": "stdout",
     "output_type": "stream",
     "text": [
      "Examples of how activation functions affect the matrix: \n",
      " [[-1  0  1]\n",
      " [ 2 -2  3]]\n",
      "\n",
      "Sigmoid:\n",
      " [[0.26894142 0.5        0.73105858]\n",
      " [0.88079708 0.11920292 0.95257413]]\n",
      "\n",
      "Tanh:\n",
      " [[-0.76159416  0.          0.76159416]\n",
      " [ 0.96402758 -0.96402758  0.99505475]]\n",
      "\n",
      "ReLU:\n",
      " [[0 0 1]\n",
      " [2 0 3]]\n",
      "\n",
      "Leaky ReLU:\n",
      " [[-0.01  0.    1.  ]\n",
      " [ 2.   -0.02  3.  ]]\n",
      "\n",
      "Softmax:\n",
      " [[0.09003057 0.24472847 0.66524096]\n",
      " [0.26762315 0.00490169 0.72747516]]\n",
      "\n",
      "Linear:\n",
      " [[-1  0  1]\n",
      " [ 2 -2  3]]\n",
      "\n",
      "Softplus:\n",
      " [[0.31326169 0.69314718 1.31326169]\n",
      " [2.12692801 0.12692801 3.04858735]]\n",
      "\n",
      "Hard Sigmoid:\n",
      " [[0.  0.5 1. ]\n",
      " [1.  0.  1. ]]\n",
      "\n",
      "Hard Tanh:\n",
      " [[-1  0  1]\n",
      " [ 1 -1  1]]\n",
      "\n",
      "ELU:\n",
      " [[-0.00632121  0.          1.        ]\n",
      " [ 2.         -0.00864665  3.        ]]\n",
      "\n",
      "SELU:\n",
      " [[-1.11132754  0.          1.0507    ]\n",
      " [ 2.1014     -1.52016209  3.1521    ]]\n"
     ]
    }
   ],
   "source": [
    "# Activation function for forward propagation\n",
    "def activation_function(z, function_name=\"sigmoid\", alpha=0.01):\n",
    "    # Range: [0, 1] - used for binary classification\n",
    "    if function_name == \"sigmoid\":\n",
    "        return 1 / (1 + np.exp(-z))\n",
    "    \n",
    "    # Range: [-1, 1] - zero-centred, used in hidden layers\n",
    "    elif function_name == \"tanh\":\n",
    "        return np.tanh(z)\n",
    "    \n",
    "    # Range: [0, inf) - outputs 0 for z < 0 and z for z >= 0\n",
    "    elif function_name == \"relu\":\n",
    "        return np.maximum(0, z)\n",
    "    \n",
    "    # Range: (-inf, inf) - outputs z for z >= 0 and alpha * z for z < 0\n",
    "    elif function_name == \"leaky_relu\":\n",
    "        return np.where(z > 0, z, alpha * z)\n",
    "    \n",
    "    # Range: [0, 1] - used in output layers for multi-class classification\n",
    "    elif function_name == \"softmax\":\n",
    "        exp_z = np.exp(z - np.max(z))\n",
    "        return exp_z / np.sum(exp_z, axis=1, keepdims=True)\n",
    "    \n",
    "    # Range: (-inf, inf) - linear activation\n",
    "    elif function_name == \"linear\":\n",
    "        return z\n",
    "    \n",
    "    # Range: [0, 6] - smooth approximation of ReLU\n",
    "    elif function_name == \"softplus\":\n",
    "        return np.log1p(np.exp(z))\n",
    "    \n",
    "    # Range: [-1, 1] - scaled and shifted sigmoid\n",
    "    elif function_name == \"hard_sigmoid\":\n",
    "        return np.maximum(0, np.minimum(1, (z + 1) / 2))\n",
    "    \n",
    "    # Range: (-1, 1) - similar to tanh but with a sharper bend\n",
    "    elif function_name == \"hard_tanh\":\n",
    "        return np.maximum(-1, np.minimum(1, z))\n",
    "    \n",
    "    # Range: [0, inf) - similar to ReLU but smoother near 0\n",
    "    elif function_name == \"elu\":\n",
    "        return np.where(z > 0, z, alpha * (np.exp(z) - 1))\n",
    "    \n",
    "    # Range: (-inf, inf) - scaled ReLU\n",
    "    elif function_name == \"selu\":\n",
    "        lambda_ = 1.0507\n",
    "        alpha = 1.67326\n",
    "        return lambda_ * np.where(z > 0, z, alpha * (np.exp(z) - 1))\n",
    "    \n",
    "    else:\n",
    "        raise ValueError(f\"Unsupported activation function: {function_name}\")\n",
    "\n",
    "# Test the function\n",
    "z = np.array([[-1, 0, 1], [2, -2, 3]])\n",
    "\n",
    "print(\"Examples of how activation functions affect the matrix: \\n\", z)\n",
    "print(\"\\nSigmoid:\\n\", activation_function(z, \"sigmoid\"))\n",
    "print(\"\\nTanh:\\n\", activation_function(z, \"tanh\"))\n",
    "print(\"\\nReLU:\\n\", activation_function(z, \"relu\"))\n",
    "print(\"\\nLeaky ReLU:\\n\", activation_function(z, \"leaky_relu\"))\n",
    "print(\"\\nSoftmax:\\n\", activation_function(z, \"softmax\"))\n",
    "print(\"\\nLinear:\\n\", activation_function(z, \"linear\"))\n",
    "print(\"\\nSoftplus:\\n\", activation_function(z, \"softplus\"))\n",
    "print(\"\\nHard Sigmoid:\\n\", activation_function(z, \"hard_sigmoid\"))\n",
    "print(\"\\nHard Tanh:\\n\", activation_function(z, \"hard_tanh\"))\n",
    "print(\"\\nELU:\\n\", activation_function(z, \"elu\"))\n",
    "print(\"\\nSELU:\\n\", activation_function(z, \"selu\"))"
   ]
  },
  {
   "cell_type": "code",
   "execution_count": 25,
   "metadata": {},
   "outputs": [],
   "source": [
    "# Loss function for cost evaluation, between true labels and predicted values\n",
    "def loss_function(y_true, y_pred, loss_type=\"cross_entropy\", epsilon=1e-12):\n",
    "    \"\"\"    \n",
    "    Parameters:\n",
    "    y_true (numpy array): True labels (one-hot encoded or actual values).\n",
    "    y_pred (numpy array): Predicted values (probabilities or actual values).\n",
    "    loss_type (str): Name of the loss function to use.\n",
    "    epsilon (float): Small value to avoid log(0).\n",
    "    \n",
    "    Returns:\n",
    "    float: Computed loss.\n",
    "    \"\"\"\n",
    "    \n",
    "    # Categorical Cross-Entropy Loss (for multi-class classification)\n",
    "    if loss_type == \"cross_entropy\":\n",
    "        # Avoids log(0) by clipping values to be within [epsilon, 1 - epsilon]\n",
    "        y_pred = np.clip(y_pred, epsilon, 1. - epsilon)\n",
    "        return -np.sum(y_true * np.log(y_pred)) / y_true.shape[0]\n",
    "    \n",
    "    elif loss_type == \"binary_cross_entropy\":\n",
    "        # Avoids log(0) by clipping values to be within [epsilon, 1 - epsilon]\n",
    "        y_pred = np.clip(y_pred, epsilon, 1. - epsilon)\n",
    "        return -np.sum(y_true * np.log(y_pred) + (1 - y_true) * np.log(1 - y_pred))\n",
    "\n",
    "    # Mean Squared Error Loss (for regression or classification)\n",
    "    elif loss_type == \"mse\":\n",
    "        return np.mean(np.sum((y_true - y_pred) ** 2, axis=1))\n",
    "\n",
    "    # Hinge Loss (used for binary classification with SVM-like models)\n",
    "    elif loss_type == \"hinge\":\n",
    "        return np.mean(np.maximum(0, 1 - y_true * y_pred))\n",
    "\n",
    "    # Kullback-Leibler Divergence (measures how one probability distribution diverges from another)\n",
    "    elif loss_type == \"kl_div\":\n",
    "        y_pred = np.clip(y_pred, epsilon, 1. - epsilon)  # Avoid log(0)\n",
    "        return np.sum(y_true * np.log(y_true / y_pred)) / y_true.shape[0]\n",
    "\n",
    "    # Focal Loss (addresses class imbalance by focusing more on hard examples)\n",
    "    elif loss_type == \"focal_loss\":\n",
    "        # Focusing parameter (can be adjusted)\n",
    "        gamma = 2.0\n",
    "        \n",
    "        # Avoids log(0) by clipping values to be within [epsilon, 1 - epsilon]\n",
    "        y_pred = np.clip(y_pred, epsilon, 1. - epsilon)\n",
    "        return -np.sum(y_true * (1 - y_pred) ** gamma * np.log(y_pred)) / y_true.shape[0]\n",
    "\n",
    "    else:\n",
    "        raise ValueError(f\"Unsupported loss function: {loss_type}\")\n",
    "    \n",
    "    \n",
    "# Regularisation function to prevent overfitting by penalising large weights\n",
    "def regularisation_term(Theta1, Theta2, reg_type=\"l2\", lamb=0.1):\n",
    "    \"\"\"    \n",
    "    Parameters:\n",
    "    Theta1 (numpy array): Weight matrix for the first layer.\n",
    "    Theta2 (numpy array): Weight matrix for the second layer.\n",
    "    regularisation_type (str): Name of the regularisation method to use.\n",
    "    lamb (float): Regularisation parameter.\n",
    "    \n",
    "    Returns:\n",
    "    float: Computed regularisation term.\n",
    "    \"\"\"\n",
    "    \n",
    "    # L2 Regularisation (penalises large weights)\n",
    "    if reg_type == \"l2\":\n",
    "        reg_term = (lamb / 2) * (np.sum(Theta1[:, 1:] ** 2) + np.sum(Theta2[:, 1:] ** 2))\n",
    "\n",
    "    # L1 Regularisation (penalises the absolute value of weights)\n",
    "    elif reg_type == \"l1\":\n",
    "        reg_term = (lamb / 2) * (np.sum(np.abs(Theta1[:, 1:])) + np.sum(np.abs(Theta2[:, 1:])))\n",
    "\n",
    "    # Elastic Net Regularisation (combination of L1 and L2)\n",
    "    elif reg_type == \"elastic_net\":\n",
    "        # Mixing parameter (0 <= alpha <= 1)\n",
    "        alpha = 0.5\n",
    "        \n",
    "        # Calculate L1 and L2 regularisation terms\n",
    "        l2_term = (1 - alpha) * np.sum(Theta1[:, 1:] ** 2) + np.sum(Theta2[:, 1:] ** 2)\n",
    "        l1_term = alpha * (np.sum(np.abs(Theta1[:, 1:])) + np.sum(np.abs(Theta2[:, 1:])))\n",
    "        reg_term = (lamb / 2) * (l2_term + l1_term)\n",
    "\n",
    "    else:\n",
    "        raise ValueError(f\"Unsupported regularisation type: {reg_type}\")\n",
    "    \n",
    "    return reg_term"
   ]
  },
  {
   "cell_type": "code",
   "execution_count": 33,
   "metadata": {},
   "outputs": [],
   "source": [
    "# Perform forward propagation on the training data maxtrix and weight matrices\n",
    "def forward_propagation(X, Theta1, Theta2, activation_hidden=\"sigmoid\", activation_output=\"sigmoid\"):\n",
    "    m = X.shape[0]\n",
    "    ones = np.ones((m, 1))                  # Ones matrix for bias unit (60,000 x 1)\n",
    "    \n",
    "    # Input layer\n",
    "    X = np.append(ones, X, axis=1)          # Add bias unit to input layer (60,000 x 785)\n",
    "    a1 = X                                  # Input layer\n",
    "    \n",
    "    # Hidden layer\n",
    "    z2 = np.dot(a1, Theta1.T)               # Compute z2 for hidden layer (60,000 x 100)\n",
    "    a2 = activation_function(z2, activation_hidden)\n",
    "    a2 = np.append(ones, a2, axis=1)        # Add bias unit to hidden layer (60,000 x 101)\n",
    "    \n",
    "    # Output layer\n",
    "    z3 = np.dot(a2, Theta2.T)               # Compute z3 for output layer (60,000 x 10)\n",
    "    a3 = activation_function(z3, activation_output)\n",
    "    \n",
    "    return a1, z2, a2, z3, a3\n",
    "\n",
    "# Calculate the cost function\n",
    "def cost_function(a3, y, Theta1, Theta2, lamb, loss_type=\"binary_cross_entropy\", reg_type=\"l2\"):\n",
    "    # Retrieve the number of samples and labels (60,000, 10)\n",
    "    m = y.shape[0]\n",
    "    num_labels = a3.shape[1]\n",
    "    \n",
    "    # Convert y labels into binary vectors (one-hot encoding)\n",
    "    y_vect = np.zeros((m, num_labels))          # Zeros 60,000 x 10\n",
    "    for i in range(m):                          # For each row in y\n",
    "        y_vect[i, int(y[i])] = 1                # Set the value at the index of the label to 1 (e.g. 5 -> [0, 0, 0, 0, 0, 1, 0, 0, 0, 0])\n",
    "    \n",
    "    # Calculate the cost (loss + regularisation)\n",
    "    loss = loss_function(y_vect, a3, loss_type=loss_type)\n",
    "    reg = regularisation_term(Theta1, Theta2, reg_type=reg_type, lamb=lamb)\n",
    "    J = (loss + reg) / m\n",
    "    \n",
    "    return J\n",
    "\n",
    "# Perform back propagation on the data matrix and weight matrices\n",
    "def back_propagation(a1, z2, a2, a3, y, Theta1, Theta2):\n",
    "    m = y.shape[0]\n",
    "    num_labels = a3.shape[1]\n",
    "    \n",
    "    # Convert y labels into binary vectors\n",
    "    y_vect = np.zeros((m, num_labels))          # Zeros 60,000 x 10\n",
    "    for i in range(m):                          # For each row in y\n",
    "        y_vect[i, int(y[i])] = 1                # Set the value at the index of the label to 1 (e.g. 5 -> [0, 0, 0, 0, 0, 1, 0, 0, 0, 0])\n",
    "    \n",
    "    # Compute deltas\n",
    "    Delta3 = a3 - y_vect\n",
    "    Delta2 = np.dot(Delta3, Theta2) * a2 * (1 - a2)\n",
    "    Delta2 = Delta2[:, 1:]  # Remove bias term from Delta2\n",
    "    \n",
    "    return Delta3, Delta2\n",
    "\n",
    "# Compute the gradients of the cost function\n",
    "def compute_gradients(Delta2, Delta3, a1, a2, Theta1, Theta2, lamb):\n",
    "    m = a1.shape[0]\n",
    "    \n",
    "    # Set the first column of Theta1 and Theta2 to zero (bias terms are not regularized)\n",
    "    Theta1[:, 0] = 0\n",
    "    Theta2[:, 0] = 0\n",
    "    \n",
    "    # Compute the gradients\n",
    "    Theta1_grad = (1 / m) * np.dot(Delta2.T, a1) + (lamb / m) * Theta1\n",
    "    Theta2_grad = (1 / m) * np.dot(Delta3.T, a2) + (lamb / m) * Theta2\n",
    "    \n",
    "    # Flatten gradients to return a single vector\n",
    "    grad = np.concatenate((Theta1_grad.flatten(), Theta2_grad.flatten()))\n",
    "    \n",
    "    return grad\n",
    "\n",
    "# Performs forward propagation to predict the label (digit) of an input image\n",
    "def predict(Theta1, Theta2, X):\n",
    "    # Reshape X to be a 2D array if it's a 1D array\n",
    "    if X.ndim == 1:\n",
    "        X = X.reshape(1, -1)  # Reshape to (1, 784)\n",
    "    \n",
    "    m = X.shape[0] \n",
    "    ones = np.ones((m, 1))                      # Ones matrix for bias unit\n",
    "    X = np.append(ones, X, axis=1)              # Add bias unit to input layer\n",
    "    \n",
    "    z2 = np.dot(X, Theta1.transpose()) \n",
    "    a2 = 1 / (1 + np.exp(-z2))                  # Activation for hidden layer\n",
    "    \n",
    "    ones = np.ones((a2.shape[0], 1))            # Add bias unit to hidden layer\n",
    "    a2 = np.append(ones, a2, axis=1)            # Adding bias unit to hidden layer\n",
    "    \n",
    "    z3 = np.dot(a2, Theta2.transpose()) \n",
    "    a3 = 1 / (1 + np.exp(-z3))                  # Activation for output layer\n",
    "    \n",
    "    p = np.argmax(a3, axis=1)                   # Predict the class\n",
    "    return p"
   ]
  },
  {
   "cell_type": "code",
   "execution_count": 51,
   "metadata": {},
   "outputs": [],
   "source": [
    "def gradient_descent(nn_params, input_layer_size, hidden_layer_size, num_labels, X, y, lamb, alpha, num_iters, X_test, y_test):\n",
    "    # Unroll the parameters\n",
    "    Theta1 = np.reshape(nn_params[:hidden_layer_size * (input_layer_size + 1)], (hidden_layer_size, input_layer_size + 1))\n",
    "    Theta2 = np.reshape(nn_params[hidden_layer_size * (input_layer_size + 1):], (num_labels, hidden_layer_size + 1))\n",
    "\n",
    "    # Lists to store cost and errors for plotting\n",
    "    J_history = []\n",
    "    train_errors = []\n",
    "    test_errors = []\n",
    "    \n",
    "    # Initialise PrettyTable for displaying results\n",
    "    table = PrettyTable()\n",
    "    table.field_names = [\"Iteration\", \"Cost\", \"Training Error [%]\", \"Test Error [%]\"]\n",
    "    \n",
    "    for i in range(num_iters):\n",
    "        # Perform forward propagation\n",
    "        a1, z2, a2, z3, a3 = forward_propagation(X, Theta1, Theta2)\n",
    "        \n",
    "        # Calculate the cost\n",
    "        J = cost_function(a3, y, Theta1, Theta2, lamb)\n",
    "        \n",
    "        # Store the cost\n",
    "        J_history.append(J)\n",
    "        \n",
    "        # Perform backpropagation to get gradients\n",
    "        Delta3, Delta2 = back_propagation(a1, z2, a2, a3, y, Theta1, Theta2)\n",
    "        grad = compute_gradients(Delta2, Delta3, a1, a2, Theta1, Theta2, lamb)\n",
    "        \n",
    "        # Unroll the gradients\n",
    "        Theta1_grad = np.reshape(grad[:hidden_layer_size * (input_layer_size + 1)], (hidden_layer_size, input_layer_size + 1))\n",
    "        Theta2_grad = np.reshape(grad[hidden_layer_size * (input_layer_size + 1):], (num_labels, hidden_layer_size + 1))\n",
    "        \n",
    "        # Update the weights using gradient descent\n",
    "        Theta1 -= alpha * Theta1_grad\n",
    "        Theta2 -= alpha * Theta2_grad\n",
    "        \n",
    "        # Recompute nn_params after each update\n",
    "        nn_params = np.concatenate((Theta1.flatten(), Theta2.flatten()))\n",
    "\n",
    "        # Calculate percentage errors for training and test sets\n",
    "        pred_train = predict(Theta1, Theta2, X)\n",
    "        train_error = 100 - np.mean(pred_train == y) * 100\n",
    "        pred_test = predict(Theta1, Theta2, X_test)\n",
    "        test_error = 100 - np.mean(pred_test == y_test) * 100\n",
    "\n",
    "        # Store errors for plotting\n",
    "        train_errors.append(train_error)\n",
    "        test_errors.append(test_error)\n",
    "        # print(f\"Iteration {i + 1}/{num_iters}, Cost: {J}, Training Error: {train_error}%, Test Error: {test_error}%\")\n",
    "        \n",
    "        # Add row to PrettyTable\n",
    "        row = [i + 1, f\"{J:.4f}\", f\"{train_error:.2f}\", f\"{test_error:.2f}\"]\n",
    "        table.add_row(row)\n",
    "        \n",
    "        # Clear the console output\n",
    "        clear_output(wait=True)\n",
    "        \n",
    "        # Print the updated table\n",
    "        print(table)\n",
    "    \n",
    "    return Theta1, Theta2, J_history, train_errors, test_errors"
   ]
  },
  {
   "cell_type": "markdown",
   "metadata": {},
   "source": [
    "`scipy.optimize.minimize`\n",
    "Generic optimisation function to find the minimum of a scalar function\n",
    "-   Objective Function: cost function of NN\n",
    "-   Initial Guess: initial estimate of params (weights) to optimise\n",
    "-   Method: optimisation algorithm to be used\n",
    "-   Jac: Jacobian (gradient) of objective function\n",
    "-   Options: e.g. number of iterations"
   ]
  },
  {
   "cell_type": "code",
   "execution_count": 53,
   "metadata": {},
   "outputs": [
    {
     "name": "stdout",
     "output_type": "stream",
     "text": [
      "+-----------+--------+--------------------+----------------+\n",
      "| Iteration |  Cost  | Training Error [%] | Test Error [%] |\n",
      "+-----------+--------+--------------------+----------------+\n",
      "|     1     | 1.7204 |       19.98        |     18.83      |\n",
      "|     2     | 1.7165 |       19.94        |     18.84      |\n",
      "+-----------+--------+--------------------+----------------+\n"
     ]
    },
    {
     "ename": "KeyboardInterrupt",
     "evalue": "",
     "output_type": "error",
     "traceback": [
      "\u001b[0;31m---------------------------------------------------------------------------\u001b[0m",
      "\u001b[0;31mKeyboardInterrupt\u001b[0m                         Traceback (most recent call last)",
      "Cell \u001b[0;32mIn[53], line 2\u001b[0m\n\u001b[1;32m      1\u001b[0m \u001b[38;5;66;03m# Run gradient descent to optimize the weights\u001b[39;00m\n\u001b[0;32m----> 2\u001b[0m Theta1, Theta2, J_history, train_errors, test_errors \u001b[38;5;241m=\u001b[39m \u001b[43mgradient_descent\u001b[49m\u001b[43m(\u001b[49m\n\u001b[1;32m      3\u001b[0m \u001b[43m    \u001b[49m\u001b[43minitial_nn_params\u001b[49m\u001b[43m,\u001b[49m\u001b[43m \u001b[49m\n\u001b[1;32m      4\u001b[0m \u001b[43m    \u001b[49m\u001b[43minput_layer_size\u001b[49m\u001b[43m,\u001b[49m\u001b[43m \u001b[49m\n\u001b[1;32m      5\u001b[0m \u001b[43m    \u001b[49m\u001b[43mhidden_layer_size\u001b[49m\u001b[43m,\u001b[49m\u001b[43m \u001b[49m\n\u001b[1;32m      6\u001b[0m \u001b[43m    \u001b[49m\u001b[43mnum_labels\u001b[49m\u001b[43m,\u001b[49m\u001b[43m \u001b[49m\n\u001b[1;32m      7\u001b[0m \u001b[43m    \u001b[49m\u001b[43mX_train\u001b[49m\u001b[43m,\u001b[49m\u001b[43m \u001b[49m\n\u001b[1;32m      8\u001b[0m \u001b[43m    \u001b[49m\u001b[43my_train\u001b[49m\u001b[43m,\u001b[49m\u001b[43m \u001b[49m\n\u001b[1;32m      9\u001b[0m \u001b[43m    \u001b[49m\u001b[43mlambda_reg\u001b[49m\u001b[43m,\u001b[49m\u001b[43m \u001b[49m\n\u001b[1;32m     10\u001b[0m \u001b[43m    \u001b[49m\u001b[43malpha\u001b[49m\u001b[43m,\u001b[49m\u001b[43m \u001b[49m\n\u001b[1;32m     11\u001b[0m \u001b[43m    \u001b[49m\u001b[43mmaxiter\u001b[49m\u001b[43m,\u001b[49m\u001b[43m \u001b[49m\n\u001b[1;32m     12\u001b[0m \u001b[43m    \u001b[49m\u001b[43mX_test\u001b[49m\u001b[43m,\u001b[49m\u001b[43m \u001b[49m\n\u001b[1;32m     13\u001b[0m \u001b[43m    \u001b[49m\u001b[43my_test\u001b[49m\n\u001b[1;32m     14\u001b[0m \u001b[43m)\u001b[49m\n\u001b[1;32m     16\u001b[0m \u001b[38;5;66;03m# Plot the training and test errors\u001b[39;00m\n\u001b[1;32m     17\u001b[0m plt\u001b[38;5;241m.\u001b[39mplot(\u001b[38;5;28mrange\u001b[39m(\u001b[38;5;241m1\u001b[39m, maxiter \u001b[38;5;241m+\u001b[39m \u001b[38;5;241m1\u001b[39m), train_errors, label\u001b[38;5;241m=\u001b[39m\u001b[38;5;124m'\u001b[39m\u001b[38;5;124mTraining Error\u001b[39m\u001b[38;5;124m'\u001b[39m)\n",
      "Cell \u001b[0;32mIn[51], line 17\u001b[0m, in \u001b[0;36mgradient_descent\u001b[0;34m(nn_params, input_layer_size, hidden_layer_size, num_labels, X, y, lamb, alpha, num_iters, X_test, y_test)\u001b[0m\n\u001b[1;32m     13\u001b[0m table\u001b[38;5;241m.\u001b[39mfield_names \u001b[38;5;241m=\u001b[39m [\u001b[38;5;124m\"\u001b[39m\u001b[38;5;124mIteration\u001b[39m\u001b[38;5;124m\"\u001b[39m, \u001b[38;5;124m\"\u001b[39m\u001b[38;5;124mCost\u001b[39m\u001b[38;5;124m\"\u001b[39m, \u001b[38;5;124m\"\u001b[39m\u001b[38;5;124mTraining Error [\u001b[39m\u001b[38;5;124m%\u001b[39m\u001b[38;5;124m]\u001b[39m\u001b[38;5;124m\"\u001b[39m, \u001b[38;5;124m\"\u001b[39m\u001b[38;5;124mTest Error [\u001b[39m\u001b[38;5;124m%\u001b[39m\u001b[38;5;124m]\u001b[39m\u001b[38;5;124m\"\u001b[39m]\n\u001b[1;32m     15\u001b[0m \u001b[38;5;28;01mfor\u001b[39;00m i \u001b[38;5;129;01min\u001b[39;00m \u001b[38;5;28mrange\u001b[39m(num_iters):\n\u001b[1;32m     16\u001b[0m     \u001b[38;5;66;03m# Perform forward propagation\u001b[39;00m\n\u001b[0;32m---> 17\u001b[0m     a1, z2, a2, z3, a3 \u001b[38;5;241m=\u001b[39m \u001b[43mforward_propagation\u001b[49m\u001b[43m(\u001b[49m\u001b[43mX\u001b[49m\u001b[43m,\u001b[49m\u001b[43m \u001b[49m\u001b[43mTheta1\u001b[49m\u001b[43m,\u001b[49m\u001b[43m \u001b[49m\u001b[43mTheta2\u001b[49m\u001b[43m)\u001b[49m\n\u001b[1;32m     19\u001b[0m     \u001b[38;5;66;03m# Calculate the cost\u001b[39;00m\n\u001b[1;32m     20\u001b[0m     J \u001b[38;5;241m=\u001b[39m cost_function(a3, y, Theta1, Theta2, lamb)\n",
      "Cell \u001b[0;32mIn[33], line 12\u001b[0m, in \u001b[0;36mforward_propagation\u001b[0;34m(X, Theta1, Theta2, activation_hidden, activation_output)\u001b[0m\n\u001b[1;32m     10\u001b[0m \u001b[38;5;66;03m# Hidden layer\u001b[39;00m\n\u001b[1;32m     11\u001b[0m z2 \u001b[38;5;241m=\u001b[39m np\u001b[38;5;241m.\u001b[39mdot(a1, Theta1\u001b[38;5;241m.\u001b[39mT)               \u001b[38;5;66;03m# Compute z2 for hidden layer (60,000 x 100)\u001b[39;00m\n\u001b[0;32m---> 12\u001b[0m a2 \u001b[38;5;241m=\u001b[39m \u001b[43mactivation_function\u001b[49m\u001b[43m(\u001b[49m\u001b[43mz2\u001b[49m\u001b[43m,\u001b[49m\u001b[43m \u001b[49m\u001b[43mactivation_hidden\u001b[49m\u001b[43m)\u001b[49m\n\u001b[1;32m     13\u001b[0m a2 \u001b[38;5;241m=\u001b[39m np\u001b[38;5;241m.\u001b[39mappend(ones, a2, axis\u001b[38;5;241m=\u001b[39m\u001b[38;5;241m1\u001b[39m)        \u001b[38;5;66;03m# Add bias unit to hidden layer (60,000 x 101)\u001b[39;00m\n\u001b[1;32m     15\u001b[0m \u001b[38;5;66;03m# Output layer\u001b[39;00m\n",
      "Cell \u001b[0;32mIn[24], line 5\u001b[0m, in \u001b[0;36mactivation_function\u001b[0;34m(z, function_name, alpha)\u001b[0m\n\u001b[1;32m      2\u001b[0m \u001b[38;5;28;01mdef\u001b[39;00m \u001b[38;5;21mactivation_function\u001b[39m(z, function_name\u001b[38;5;241m=\u001b[39m\u001b[38;5;124m\"\u001b[39m\u001b[38;5;124msigmoid\u001b[39m\u001b[38;5;124m\"\u001b[39m, alpha\u001b[38;5;241m=\u001b[39m\u001b[38;5;241m0.01\u001b[39m):\n\u001b[1;32m      3\u001b[0m     \u001b[38;5;66;03m# Range: [0, 1] - used for binary classification\u001b[39;00m\n\u001b[1;32m      4\u001b[0m     \u001b[38;5;28;01mif\u001b[39;00m function_name \u001b[38;5;241m==\u001b[39m \u001b[38;5;124m\"\u001b[39m\u001b[38;5;124msigmoid\u001b[39m\u001b[38;5;124m\"\u001b[39m:\n\u001b[0;32m----> 5\u001b[0m         \u001b[38;5;28;01mreturn\u001b[39;00m \u001b[38;5;241m1\u001b[39m \u001b[38;5;241m/\u001b[39m (\u001b[38;5;241m1\u001b[39m \u001b[38;5;241m+\u001b[39m \u001b[43mnp\u001b[49m\u001b[38;5;241;43m.\u001b[39;49m\u001b[43mexp\u001b[49m\u001b[43m(\u001b[49m\u001b[38;5;241;43m-\u001b[39;49m\u001b[43mz\u001b[49m\u001b[43m)\u001b[49m)\n\u001b[1;32m      7\u001b[0m     \u001b[38;5;66;03m# Range: [-1, 1] - zero-centred, used in hidden layers\u001b[39;00m\n\u001b[1;32m      8\u001b[0m     \u001b[38;5;28;01melif\u001b[39;00m function_name \u001b[38;5;241m==\u001b[39m \u001b[38;5;124m\"\u001b[39m\u001b[38;5;124mtanh\u001b[39m\u001b[38;5;124m\"\u001b[39m:\n",
      "\u001b[0;31mKeyboardInterrupt\u001b[0m: "
     ]
    }
   ],
   "source": [
    "# Run gradient descent to optimize the weights\n",
    "Theta1, Theta2, J_history, train_errors, test_errors = gradient_descent(\n",
    "    initial_nn_params, \n",
    "    input_layer_size, \n",
    "    hidden_layer_size, \n",
    "    num_labels, \n",
    "    X_train, \n",
    "    y_train, \n",
    "    lambda_reg, \n",
    "    alpha, \n",
    "    maxiter, \n",
    "    X_test, \n",
    "    y_test\n",
    ")\n",
    "\n",
    "# Plot the training and test errors\n",
    "plt.plot(range(1, maxiter + 1), train_errors, label='Training Error')\n",
    "plt.plot(range(1, maxiter + 1), test_errors, label='Test Error')\n",
    "plt.xlabel('Number of Iterations')\n",
    "plt.ylabel('Percentage Error')\n",
    "plt.title('Training and Test Errors vs. Iterations')\n",
    "plt.legend()\n",
    "plt.show()\n",
    "\n",
    "# Plot the cost function over iterations\n",
    "plt.plot(range(1, maxiter + 1), J_history, label='Cost Function')\n",
    "plt.xlabel('Number of Iterations')\n",
    "plt.ylabel('Cost')\n",
    "plt.title('Cost Function vs. Iterations')\n",
    "plt.legend()\n",
    "plt.show()"
   ]
  },
  {
   "cell_type": "markdown",
   "metadata": {},
   "source": [
    "`Objective / Cost function`\n",
    "| Variable | Definition                                                                     |\n",
    "| -------- | -------                                                                        |\n",
    "| N        | total number of variables (parameters, weights)                                |\n",
    "| M        | number of corrections (updates) stored in memory by the algorithm              |\n",
    "| X0       | none of the variables are at their bounds                                      |\n",
    "| f        | current value of cost function                                                 |\n",
    "| proj g   | norm of projected gradient (how close optimisation is to a stationary point)   |\n",
    "| success  | whether optimisation converged or not (did not)                                |\n",
    "| fun      | value of cost function @ final params                                          |\n",
    "| x        | final values of params (weights)                                               |\n",
    "| nit      | number of iterations performed                                                 |\n",
    "| jac      | gradient of cost function @ final params                                       |\n",
    "| nfev     | # times cost function was evaluated                                            |\n",
    "| njev     | # times gradient was evaluated                                                 |\n",
    "| hess_inv | inverse of the approx Hessian matrix @ final point (helps understand curvature)|"
   ]
  },
  {
   "cell_type": "code",
   "execution_count": 58,
   "metadata": {},
   "outputs": [
    {
     "name": "stdout",
     "output_type": "stream",
     "text": [
      "Optimised weights: \n",
      " [[ 4.87851634e-05 -1.08813851e-01  2.68350906e-02 ...  2.03016730e-02\n",
      "   3.73535079e-02  6.13470170e-02]\n",
      " [ 5.92931608e-05 -6.46293003e-02  1.11114342e-01 ... -5.03147249e-02\n",
      "  -4.32231066e-02  5.41557209e-02]\n",
      " [ 6.51988950e-06 -1.27749056e-01 -1.60219529e-02 ...  4.99324212e-02\n",
      "  -5.42269157e-02  1.30640435e-01]\n",
      " ...\n",
      " [-3.64889661e-05 -1.20195978e-01  1.33080068e-01 ...  7.19482118e-02\n",
      "   1.43046102e-02 -9.04091583e-02]\n",
      " [-1.21425071e-04 -2.11468259e-02 -7.56769989e-02 ... -5.50866717e-03\n",
      "  -5.37951136e-02 -1.03313194e-01]\n",
      " [-4.29928698e-05 -1.61788580e-02 -1.09878279e-01 ...  2.96075654e-02\n",
      "  -1.08669402e-01  2.41692045e-02]] \n",
      " (100, 785)\n",
      "Optimised weights: \n",
      " [[-2.20146312e-04 -2.70166703e-01 -5.46748449e-01 ... -1.77098950e-01\n",
      "  -2.74627394e-01  2.02596202e-02]\n",
      " [-2.10627207e-04  9.32320567e-02  1.53014221e-01 ... -2.03021316e-02\n",
      "  -2.46224119e-01 -5.59480542e-02]\n",
      " [-1.87325303e-04  9.06402286e-02  9.12294730e-02 ... -4.96607091e-02\n",
      "   9.37321312e-02 -3.51082144e-03]\n",
      " ...\n",
      " [-1.46378534e-04  2.87594897e-02 -1.93010909e-01 ... -9.79803919e-02\n",
      "  -1.21022806e-01 -1.99487585e-01]\n",
      " [-1.78506403e-04 -4.90903203e-02  9.40375746e-02 ... -1.69687700e-01\n",
      "   1.34498026e-01 -2.61356070e-01]\n",
      " [-2.37376511e-04 -7.44169132e-02 -2.25445759e-01 ... -1.44886394e-01\n",
      "  -2.19329545e-01 -2.06309222e-02]] \n",
      " (10, 101)\n"
     ]
    }
   ],
   "source": [
    "# Extract the optimised weights (trained Theta)\n",
    "print(\"Optimised weights: \\n\", Theta1, \"\\n\", Theta1.shape)\n",
    "print(\"Optimised weights: \\n\", Theta2, \"\\n\", Theta2.shape)\n",
    "\n",
    "# Save Thetas in .txt files: (100 x 785) and (10 x 101)\n",
    "np.savetxt('Theta1.txt', Theta1, delimiter=' ') \n",
    "np.savetxt('Theta2.txt', Theta2, delimiter=' ')"
   ]
  },
  {
   "cell_type": "code",
   "execution_count": 59,
   "metadata": {},
   "outputs": [
    {
     "name": "stdout",
     "output_type": "stream",
     "text": [
      "Training Set Statistics:\n",
      "+-------+--------------------+-------+--------------+\n",
      "| Digit | Misclassifications | Total | Accuracy (%) |\n",
      "+-------+--------------------+-------+--------------+\n",
      "|   0   |        316         |  5923 |    94.66     |\n",
      "|   1   |        171         |  6742 |    97.46     |\n",
      "|   2   |        1435        |  5958 |    75.91     |\n",
      "|   3   |        1178        |  6131 |    80.79     |\n",
      "|   4   |        1203        |  5842 |    79.41     |\n",
      "|   5   |        2416        |  5421 |    55.43     |\n",
      "|   6   |        591         |  5918 |    90.01     |\n",
      "|   7   |        755         |  6265 |    87.95     |\n",
      "|   8   |        1904        |  5851 |    67.46     |\n",
      "|   9   |        1994        |  5949 |    66.48     |\n",
      "| TOTAL |       11963        | 60000 |    80.06     |\n",
      "+-------+--------------------+-------+--------------+\n",
      "\n",
      "Test Set Statistics:\n",
      "+-------+--------------------+-------+--------------+\n",
      "| Digit | Misclassifications | Total | Accuracy (%) |\n",
      "+-------+--------------------+-------+--------------+\n",
      "|   0   |         39         |  980  |    96.02     |\n",
      "|   1   |         24         |  1135 |    97.89     |\n",
      "|   2   |        253         |  1032 |    75.48     |\n",
      "|   3   |        159         |  1010 |    84.26     |\n",
      "|   4   |        174         |  982  |    82.28     |\n",
      "|   5   |        403         |  892  |    54.82     |\n",
      "|   6   |         93         |  958  |    90.29     |\n",
      "|   7   |        124         |  1028 |    87.94     |\n",
      "|   8   |        303         |  974  |    68.89     |\n",
      "|   9   |        312         |  1009 |    69.08     |\n",
      "| TOTAL |        1884        | 10000 |    81.16     |\n",
      "+-------+--------------------+-------+--------------+\n"
     ]
    }
   ],
   "source": [
    "# Function to count misclassifications and calculate accuracy\n",
    "def count_misclassifications(y_true, y_pred, num_labels=10):\n",
    "    # Initialize a dictionary to store the count of misclassifications for each digit\n",
    "    misclassifications = {i: 0 for i in range(num_labels)}\n",
    "    \n",
    "    # Iterate through all the true labels and predictions\n",
    "    for true_label, pred_label in zip(y_true, y_pred):\n",
    "        if true_label != pred_label:\n",
    "            misclassifications[true_label] += 1\n",
    "    \n",
    "    # Calculate the total number of misclassifications\n",
    "    total_misclassifications = sum(misclassifications.values())\n",
    "    \n",
    "    return misclassifications, total_misclassifications\n",
    "\n",
    "# Initialize the table\n",
    "table_train = PrettyTable()\n",
    "table_train.field_names = [\"Digit\", \"Misclassifications\", \"Total\", \"Accuracy (%)\"]\n",
    "\n",
    "# Predict and count misclassifications in the training set\n",
    "pred_train = predict(Theta1, Theta2, X_train)\n",
    "misclassifications_train, total_misclassifications_train = count_misclassifications(y_train, pred_train)\n",
    "\n",
    "# Add rows for each digit\n",
    "for digit, count in misclassifications_train.items():\n",
    "    total_digit = len(y_train[y_train == digit])\n",
    "    accuracy = 100 * (total_digit - count) / total_digit\n",
    "    table_train.add_row([digit, count, total_digit, f\"{accuracy:.2f}\"])\n",
    "\n",
    "# Add the total row\n",
    "total_train = len(y_train)\n",
    "overall_accuracy_train = 100 * (total_train - total_misclassifications_train) / total_train\n",
    "table_train.add_row([\"TOTAL\", total_misclassifications_train, total_train, f\"{overall_accuracy_train:.2f}\"])\n",
    "\n",
    "# Print the table for training set\n",
    "print(\"Training Set Statistics:\")\n",
    "print(table_train)\n",
    "\n",
    "# Repeat for the test set\n",
    "table_test = PrettyTable()\n",
    "table_test.field_names = [\"Digit\", \"Misclassifications\", \"Total\", \"Accuracy (%)\"]\n",
    "\n",
    "pred_test = predict(Theta1, Theta2, X_test)\n",
    "misclassifications_test, total_misclassifications_test = count_misclassifications(y_test, pred_test)\n",
    "\n",
    "for digit, count in misclassifications_test.items():\n",
    "    total_digit = len(y_test[y_test == digit])\n",
    "    accuracy = 100 * (total_digit - count) / total_digit\n",
    "    table_test.add_row([digit, count, total_digit, f\"{accuracy:.2f}\"])\n",
    "\n",
    "total_test = len(y_test)\n",
    "overall_accuracy_test = 100 * (total_test - total_misclassifications_test) / total_test\n",
    "table_test.add_row([\"TOTAL\", total_misclassifications_test, total_test, f\"{overall_accuracy_test:.2f}\"])\n",
    "\n",
    "print(\"\\nTest Set Statistics:\")\n",
    "print(table_test)\n"
   ]
  },
  {
   "cell_type": "code",
   "execution_count": 60,
   "metadata": {},
   "outputs": [
    {
     "data": {
      "image/png": "[encoded data removed]",
      "text/plain": [
       "<Figure size 640x480 with 1 Axes>"
      ]
     },
     "metadata": {},
     "output_type": "display_data"
    },
    {
     "name": "stdout",
     "output_type": "stream",
     "text": [
      "[1]\n"
     ]
    },
    {
     "data": {
      "image/png": "[encoded data removed]",
      "text/plain": [
       "<Figure size 640x480 with 1 Axes>"
      ]
     },
     "metadata": {},
     "output_type": "display_data"
    },
    {
     "name": "stdout",
     "output_type": "stream",
     "text": [
      "[8]\n"
     ]
    },
    {
     "data": {
      "image/png": "[encoded data removed]",
      "text/plain": [
       "<Figure size 640x480 with 1 Axes>"
      ]
     },
     "metadata": {},
     "output_type": "display_data"
    },
    {
     "name": "stdout",
     "output_type": "stream",
     "text": [
      "[8]\n"
     ]
    },
    {
     "data": {
      "image/png": "[encoded data removed]",
      "text/plain": [
       "<Figure size 640x480 with 1 Axes>"
      ]
     },
     "metadata": {},
     "output_type": "display_data"
    },
    {
     "name": "stdout",
     "output_type": "stream",
     "text": [
      "[7]\n"
     ]
    },
    {
     "data": {
      "image/png": "[encoded data removed]",
      "text/plain": [
       "<Figure size 640x480 with 1 Axes>"
      ]
     },
     "metadata": {},
     "output_type": "display_data"
    },
    {
     "name": "stdout",
     "output_type": "stream",
     "text": [
      "[1]\n"
     ]
    },
    {
     "data": {
      "image/png": "[encoded data removed]",
      "text/plain": [
       "<Figure size 640x480 with 1 Axes>"
      ]
     },
     "metadata": {},
     "output_type": "display_data"
    },
    {
     "name": "stdout",
     "output_type": "stream",
     "text": [
      "[3]\n"
     ]
    },
    {
     "data": {
      "image/png": "[encoded data removed]",
      "text/plain": [
       "<Figure size 640x480 with 1 Axes>"
      ]
     },
     "metadata": {},
     "output_type": "display_data"
    },
    {
     "name": "stdout",
     "output_type": "stream",
     "text": [
      "[9]\n"
     ]
    },
    {
     "data": {
      "image/png": "[encoded data removed]",
      "text/plain": [
       "<Figure size 640x480 with 1 Axes>"
      ]
     },
     "metadata": {},
     "output_type": "display_data"
    },
    {
     "name": "stdout",
     "output_type": "stream",
     "text": [
      "[5]\n"
     ]
    }
   ],
   "source": [
    "# Pop up widget to draw digit and output model prediction\n",
    "window = Tk()\n",
    "window.title(\"Handwritten digit recognition\")\n",
    "l1 = Label()\n",
    "\n",
    "def Predictor():\n",
    "    global l1\n",
    "\n",
    "    # Get the widget (canvas) coordinates relative to the screen\n",
    "    widget = cv\n",
    "    x = widget.winfo_rootx()\n",
    "    y = widget.winfo_rooty()\n",
    "    x1 = x + widget.winfo_width()\n",
    "    y1 = y + widget.winfo_height()\n",
    "\n",
    "    # Capture the image from the canvas only using the exact coordinates\n",
    "    img = ImageGrab.grab(bbox=(x, y, x1, y1)).resize((28, 28))\n",
    "\n",
    "    # Convert to grayscale\n",
    "    img = img.convert('L')\n",
    "\n",
    "    # Display the captured image to verify\n",
    "    plt.imshow(np.asarray(img), cmap='gray')\n",
    "    plt.show()\n",
    "\n",
    "    # Convert the image to a vector\n",
    "    vec = np.asarray(img).flatten()\n",
    "\n",
    "    # Load the pre-trained Thetas\n",
    "    Theta1 = np.loadtxt('Theta1.txt')\n",
    "    Theta2 = np.loadtxt('Theta2.txt')\n",
    "\n",
    "    # Normalize the vector and make a prediction\n",
    "    pred = predict(Theta1, Theta2, vec / 255)\n",
    "    print(pred)\n",
    "\n",
    "    # Display the prediction result\n",
    "    l1 = Label(window, text=\"Digit = \" + str(pred[0]), font=('Algerian', 20))\n",
    "    l1.place(x=230, y=420)\n",
    "\n",
    "\n",
    "lastx, lasty = None, None\n",
    "\n",
    "# Clears the canvas\n",
    "def clear_widget():\n",
    "\tglobal cv, l1\n",
    "\tcv.delete(\"all\")\n",
    "\tl1.destroy()\n",
    "\n",
    "# Activate canvas\n",
    "def event_activation(event):\n",
    "\tglobal lastx, lasty\n",
    "\tcv.bind('<B1-Motion>', draw_lines)\n",
    "\tlastx, lasty = event.x, event.y\n",
    "\n",
    "# To draw on canvas\n",
    "def draw_lines(event):\n",
    "\tglobal lastx, lasty\n",
    "\tx, y = event.x, event.y\n",
    "\tcv.create_line((lastx, lasty, x, y), width=30, fill='white', capstyle=ROUND, smooth=TRUE, splinesteps=12)\n",
    "\tlastx, lasty = x, y\n",
    "\n",
    "# Label\n",
    "L1 = Label(window, text=\"Handwritten Digit Recoginition\", font=('Algerian', 25), fg=\"blue\")\n",
    "L1.place(x=35, y=10)\n",
    "\n",
    "# Button to clear canvas\n",
    "b1 = Button(window, text=\"1. Clear Canvas\", font=('Algerian', 15), bg=\"orange\", fg=\"black\", command=clear_widget)\n",
    "b1.place(x=120, y=370)\n",
    "\n",
    "# Button to predict digit drawn on canvas\n",
    "b2 = Button(window, text=\"2. Prediction\", font=('Algerian', 15), bg=\"white\", fg=\"red\", command=Predictor)\n",
    "b2.place(x=320, y=370)\n",
    "\n",
    "# Setting properties of canvas\n",
    "cv = Canvas(window, width=350, height=290, bg='black')\n",
    "cv.place(x=120, y=70)\n",
    "\n",
    "cv.bind('<Button-1>', event_activation)\n",
    "window.geometry(\"600x500\")\n",
    "window.mainloop()\n"
   ]
  },
  {
   "cell_type": "markdown",
   "metadata": {},
   "source": [
    "## EVALUATION\n",
    "-   MNIST dataset are 28x28, grayscaled, centred -> app needs for centred drawings otherwise it fails\n",
    "-   MUST preprocess image by aligning it central before letting app guess the digit\n",
    "-   When user clicks prediction\n",
    "    1.  Extract screenshot of drawing\n",
    "    2.  Crop around drawing\n",
    "    3.  Find centre point (centre of mass)\n",
    "    4.  Shift image to centre the digit\n",
    "    5.  Run prediction algorithm on this centred image"
   ]
  },
  {
   "cell_type": "markdown",
   "metadata": {},
   "source": []
  }
 ],
 "metadata": {
  "kernelspec": {
   "display_name": ".venv",
   "language": "python",
   "name": "python3"
  },
  "language_info": {
   "codemirror_mode": {
    "name": "ipython",
    "version": 3
   },
   "file_extension": ".py",
   "mimetype": "text/x-python",
   "name": "python",
   "nbconvert_exporter": "python",
   "pygments_lexer": "ipython3",
   "version": "3.12.4"
  }
 },
 "nbformat": 4,
 "nbformat_minor": 2
}
