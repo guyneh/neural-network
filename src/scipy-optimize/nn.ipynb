{
 "cells": [
  {
   "cell_type": "markdown",
   "metadata": {},
   "source": [
    "# Neural Network for MNIST dataset of digit recognition\n",
    "\n",
    "Tutorial: https://www.geeksforgeeks.org/handwritten-digit-recognition-using-neural-network/\n",
    "\n",
    "-   Uses scipy.optimize.minimize to run the gradient descent algorithm\n",
    "-   Range of 1st & 2nd order algorithms to choose from\n",
    "-   Selected: L-BFGS-B"
   ]
  },
  {
   "cell_type": "code",
   "execution_count": 1,
   "metadata": {},
   "outputs": [],
   "source": [
    "from scipy.io import loadmat\n",
    "import numpy as np\n",
    "from scipy.optimize import minimize\n",
    "from tkinter import *\n",
    "from PIL import ImageGrab\n",
    "import matplotlib.pyplot as plt\n",
    "from prettytable import PrettyTable"
   ]
  },
  {
   "cell_type": "code",
   "execution_count": 2,
   "metadata": {},
   "outputs": [],
   "source": [
    "# HYPERPARAMETERS\n",
    "normalisation_factor = 1/255        # Each pixel = 8-bit integer (0-255)\n",
    "input_layer_size = 28 * 28          # Number of features (pixels)\n",
    "hidden_layer_size = 100             # Number of hidden units\n",
    "num_labels = 10                     # Number of labels (0-9)\n",
    "maxiter = 100                       # Maximum number of iterations for optimisation\n",
    "lambda_reg = 0.1                    # Regularisation parameter (prevents overfitting)\n",
    "epsilon = 0.15                      # Random initialisation parameter (prevents symmetry)"
   ]
  },
  {
   "cell_type": "code",
   "execution_count": 3,
   "metadata": {},
   "outputs": [
    {
     "name": "stdout",
     "output_type": "stream",
     "text": [
      "Keys:  dict_keys(['__header__', '__version__', '__globals__', 'mldata_descr_ordering', 'data', 'label'])\n",
      "Dataset shape:  (784, 70000)\n"
     ]
    }
   ],
   "source": [
    "# Load mat file of data\n",
    "data = loadmat('../../data/mnist-original.mat')\n",
    "print(\"Keys: \", data.keys())\n",
    "print(\"Dataset shape: \", data['data'].shape)"
   ]
  },
  {
   "cell_type": "code",
   "execution_count": 4,
   "metadata": {},
   "outputs": [
    {
     "name": "stdout",
     "output_type": "stream",
     "text": [
      "Data, X:\n",
      "  [[0. 0. 0. ... 0. 0. 0.]\n",
      " [0. 0. 0. ... 0. 0. 0.]\n",
      " [0. 0. 0. ... 0. 0. 0.]\n",
      " ...\n",
      " [0. 0. 0. ... 0. 0. 0.]\n",
      " [0. 0. 0. ... 0. 0. 0.]\n",
      " [0. 0. 0. ... 0. 0. 0.]] \n",
      " (70000, 784)\n",
      "\n",
      "Labels, y:\n",
      "  [0. 0. 0. ... 9. 9. 9.] \n",
      " (70000,)\n"
     ]
    }
   ],
   "source": [
    "# Extract features and transpose\n",
    "X = data['data'].T\n",
    "\n",
    "# Normalise the data so that each pixel is in the range [0, 1]\n",
    "X = X * normalisation_factor\n",
    "\n",
    "# Extract labels from data and flatten\n",
    "y = data['label'].flatten()\n",
    "\n",
    "print(\"Data, X:\\n \", X, \"\\n\", X.shape)\n",
    "print(\"\\nLabels, y:\\n \", y, \"\\n\", y.shape)"
   ]
  },
  {
   "cell_type": "code",
   "execution_count": 5,
   "metadata": {},
   "outputs": [
    {
     "name": "stdout",
     "output_type": "stream",
     "text": [
      "Training size:  (60000, 784) (60000,)\n",
      "Testing size:  (10000, 784) (10000,)\n"
     ]
    }
   ],
   "source": [
    "# Split data into training set with 60,000 samples and test set with 10,000 samples (capital for matrix, lower case for vector)\n",
    "X_train = X[:60000, :]\n",
    "y_train = y[:60000]\n",
    "print(\"Training size: \", X_train.shape, y_train.shape)\n",
    "\n",
    "# (2nd colon specifies all columns)\n",
    "X_test = X[60000:, :]\n",
    "y_test = y[60000:]\n",
    "print(\"Testing size: \", X_test.shape, y_test.shape)"
   ]
  },
  {
   "cell_type": "code",
   "execution_count": 6,
   "metadata": {},
   "outputs": [
    {
     "data": {
      "image/png": "[encoded data removed]",
      "text/plain": [
       "<Figure size 640x480 with 1 Axes>"
      ]
     },
     "metadata": {},
     "output_type": "display_data"
    }
   ],
   "source": [
    "# Display a sample image (random by default)\n",
    "def show_image(X, y, index=None):\n",
    "    # Choose a random index if none is provided\n",
    "    if index is None:\n",
    "        N = X.shape[0]\n",
    "        index = np.random.randint(0, N - 1)\n",
    "    \n",
    "    # Extract image data and label\n",
    "    image = X[index].reshape(28, 28)\n",
    "    label = y[index]\n",
    "    \n",
    "    # Display image and label\n",
    "    plt.imshow(image, cmap='gray')\n",
    "    plt.title(f\"Label: {label}\")\n",
    "    plt.axis('off')\n",
    "    plt.show()\n",
    "    \n",
    "# Choose a random index from the total number of images\n",
    "show_image(X, y)"
   ]
  },
  {
   "cell_type": "code",
   "execution_count": 7,
   "metadata": {},
   "outputs": [
    {
     "name": "stdout",
     "output_type": "stream",
     "text": [
      "Theta1:\n",
      "  [[ 0.00147816 -0.07189083  0.05506175 ... -0.04538693 -0.11448438\n",
      "  -0.05962421]\n",
      " [ 0.10753582  0.0695507  -0.0304258  ...  0.01657934  0.10571481\n",
      "   0.01543542]\n",
      " [ 0.02276993  0.02959162 -0.05387712 ...  0.03628767 -0.04921695\n",
      "   0.12018984]\n",
      " ...\n",
      " [-0.08843389 -0.1109085  -0.09672597 ...  0.02214201 -0.04475138\n",
      "  -0.02823986]\n",
      " [ 0.06964819  0.07849311  0.04547372 ...  0.00928075  0.13820973\n",
      "   0.0454576 ]\n",
      " [ 0.00174491 -0.13453267  0.03649125 ... -0.0171884  -0.06542016\n",
      "  -0.01408504]] \n",
      " (100, 785)\n",
      "\n",
      "Theta2:\n",
      "  [[ 0.0122632   0.03775455 -0.02392025 ... -0.14111254  0.11653878\n",
      "   0.06593465]\n",
      " [-0.0781369   0.13369136  0.12178512 ... -0.05744618  0.03097453\n",
      "  -0.04683853]\n",
      " [ 0.07896046 -0.07825919 -0.05066538 ...  0.0704541  -0.01349003\n",
      "   0.07249371]\n",
      " ...\n",
      " [-0.08702253  0.09207454  0.07845841 ... -0.00973098  0.04047703\n",
      "  -0.01494333]\n",
      " [ 0.04566182 -0.14216368 -0.1148895  ...  0.04746998  0.07221224\n",
      "   0.10923005]\n",
      " [ 0.10710828  0.0965417   0.05992174 ... -0.03669372  0.02720445\n",
      "   0.09683856]] \n",
      " (10, 101)\n"
     ]
    }
   ],
   "source": [
    "# Function to randomly initialise Thetas (weights) between a range of [-epsilon, epsilon]\n",
    "def initialise(a, b, epsilon):\n",
    "    # Scale and shift random values to be within range\n",
    "    c = (np.random.rand(a, b + 1) * (2 * epsilon)) - epsilon\n",
    "    \n",
    "    # Returns matrix of randomly initialised weights, of dimensions a x (b + 1)\n",
    "    return c\n",
    "\n",
    "# epsilon chosen arbitrarily (small enough to avoid saturation and large enough to avoid vanishing gradients)\n",
    "initial_Theta1 = initialise(hidden_layer_size, input_layer_size, epsilon)\n",
    "initial_Theta2 = initialise(num_labels, hidden_layer_size, epsilon)\n",
    "print(\"Theta1:\\n \", initial_Theta1, \"\\n\", initial_Theta1.shape)\n",
    "print(\"\\nTheta2:\\n \", initial_Theta2, \"\\n\", initial_Theta2.shape)"
   ]
  },
  {
   "cell_type": "code",
   "execution_count": 8,
   "metadata": {},
   "outputs": [
    {
     "name": "stdout",
     "output_type": "stream",
     "text": [
      "Initial parameters:\n",
      "  [ 0.00147816 -0.07189083  0.05506175 ... -0.03669372  0.02720445\n",
      "  0.09683856] \n",
      " (79510,)\n"
     ]
    }
   ],
   "source": [
    "# Unroll (combine) the weight matrices into a single column vector (easier for optimisation algorithm)\n",
    "initial_nn_params = np.concatenate((initial_Theta1.flatten(), initial_Theta2.flatten()))\n",
    "print(\"Initial parameters:\\n \", initial_nn_params, \"\\n\", initial_nn_params.shape)"
   ]
  },
  {
   "cell_type": "markdown",
   "metadata": {},
   "source": [
    "#### Why 79,510?\n",
    "`Theta1`\n",
    "-   hidden_layer_size * (input_layer_size + 1)\n",
    "-   100 * (784 + 1)\n",
    "-   78,500\n",
    "\n",
    "`Theta2`\n",
    "-   num_labels * (hidden_layer_size + 1)\n",
    "-   10 * (100 + 1)\n",
    "-   1,010\n",
    "\n",
    "`TOTAL`\n",
    "-   79,510"
   ]
  },
  {
   "cell_type": "code",
   "execution_count": 9,
   "metadata": {},
   "outputs": [
    {
     "name": "stdout",
     "output_type": "stream",
     "text": [
      "Examples of how activation functions affect the matrix: \n",
      " [[-1  0  1]\n",
      " [ 2 -2  3]]\n",
      "\n",
      "Sigmoid:\n",
      " [[0.26894142 0.5        0.73105858]\n",
      " [0.88079708 0.11920292 0.95257413]]\n",
      "\n",
      "Tanh:\n",
      " [[-0.76159416  0.          0.76159416]\n",
      " [ 0.96402758 -0.96402758  0.99505475]]\n",
      "\n",
      "ReLU:\n",
      " [[0 0 1]\n",
      " [2 0 3]]\n",
      "\n",
      "Leaky ReLU:\n",
      " [[-0.01  0.    1.  ]\n",
      " [ 2.   -0.02  3.  ]]\n",
      "\n",
      "Softmax:\n",
      " [[0.09003057 0.24472847 0.66524096]\n",
      " [0.26762315 0.00490169 0.72747516]]\n",
      "\n",
      "Linear:\n",
      " [[-1  0  1]\n",
      " [ 2 -2  3]]\n",
      "\n",
      "Softplus:\n",
      " [[0.31326169 0.69314718 1.31326169]\n",
      " [2.12692801 0.12692801 3.04858735]]\n",
      "\n",
      "Hard Sigmoid:\n",
      " [[0.  0.5 1. ]\n",
      " [1.  0.  1. ]]\n",
      "\n",
      "Hard Tanh:\n",
      " [[-1  0  1]\n",
      " [ 1 -1  1]]\n",
      "\n",
      "ELU:\n",
      " [[-0.00632121  0.          1.        ]\n",
      " [ 2.         -0.00864665  3.        ]]\n",
      "\n",
      "SELU:\n",
      " [[-1.11132754  0.          1.0507    ]\n",
      " [ 2.1014     -1.52016209  3.1521    ]]\n"
     ]
    }
   ],
   "source": [
    "# Activation function for forward propagation\n",
    "def activation_function(z, function_name=\"sigmoid\", alpha=0.01):\n",
    "    # Range: [0, 1] - used for binary classification\n",
    "    if function_name == \"sigmoid\":\n",
    "        return 1 / (1 + np.exp(-z))\n",
    "    \n",
    "    # Range: [-1, 1] - zero-centred, used in hidden layers\n",
    "    elif function_name == \"tanh\":\n",
    "        return np.tanh(z)\n",
    "    \n",
    "    # Range: [0, inf) - outputs 0 for z < 0 and z for z >= 0\n",
    "    elif function_name == \"relu\":\n",
    "        return np.maximum(0, z)\n",
    "    \n",
    "    # Range: (-inf, inf) - outputs z for z >= 0 and alpha * z for z < 0\n",
    "    elif function_name == \"leaky_relu\":\n",
    "        return np.where(z > 0, z, alpha * z)\n",
    "    \n",
    "    # Range: [0, 1] - used in output layers for multi-class classification\n",
    "    elif function_name == \"softmax\":\n",
    "        exp_z = np.exp(z - np.max(z))\n",
    "        return exp_z / np.sum(exp_z, axis=1, keepdims=True)\n",
    "    \n",
    "    # Range: (-inf, inf) - linear activation\n",
    "    elif function_name == \"linear\":\n",
    "        return z\n",
    "    \n",
    "    # Range: [0, 6] - smooth approximation of ReLU\n",
    "    elif function_name == \"softplus\":\n",
    "        return np.log1p(np.exp(z))\n",
    "    \n",
    "    # Range: [-1, 1] - scaled and shifted sigmoid\n",
    "    elif function_name == \"hard_sigmoid\":\n",
    "        return np.maximum(0, np.minimum(1, (z + 1) / 2))\n",
    "    \n",
    "    # Range: (-1, 1) - similar to tanh but with a sharper bend\n",
    "    elif function_name == \"hard_tanh\":\n",
    "        return np.maximum(-1, np.minimum(1, z))\n",
    "    \n",
    "    # Range: [0, inf) - similar to ReLU but smoother near 0\n",
    "    elif function_name == \"elu\":\n",
    "        return np.where(z > 0, z, alpha * (np.exp(z) - 1))\n",
    "    \n",
    "    # Range: (-inf, inf) - scaled ReLU\n",
    "    elif function_name == \"selu\":\n",
    "        lambda_ = 1.0507\n",
    "        alpha = 1.67326\n",
    "        return lambda_ * np.where(z > 0, z, alpha * (np.exp(z) - 1))\n",
    "    \n",
    "    else:\n",
    "        raise ValueError(f\"Unsupported activation function: {function_name}\")\n",
    "\n",
    "# Test the function\n",
    "z = np.array([[-1, 0, 1], [2, -2, 3]])\n",
    "\n",
    "print(\"Examples of how activation functions affect the matrix: \\n\", z)\n",
    "print(\"\\nSigmoid:\\n\", activation_function(z, \"sigmoid\"))\n",
    "print(\"\\nTanh:\\n\", activation_function(z, \"tanh\"))\n",
    "print(\"\\nReLU:\\n\", activation_function(z, \"relu\"))\n",
    "print(\"\\nLeaky ReLU:\\n\", activation_function(z, \"leaky_relu\"))\n",
    "print(\"\\nSoftmax:\\n\", activation_function(z, \"softmax\"))\n",
    "print(\"\\nLinear:\\n\", activation_function(z, \"linear\"))\n",
    "print(\"\\nSoftplus:\\n\", activation_function(z, \"softplus\"))\n",
    "print(\"\\nHard Sigmoid:\\n\", activation_function(z, \"hard_sigmoid\"))\n",
    "print(\"\\nHard Tanh:\\n\", activation_function(z, \"hard_tanh\"))\n",
    "print(\"\\nELU:\\n\", activation_function(z, \"elu\"))\n",
    "print(\"\\nSELU:\\n\", activation_function(z, \"selu\"))"
   ]
  },
  {
   "cell_type": "code",
   "execution_count": 10,
   "metadata": {},
   "outputs": [],
   "source": [
    "# Loss function for cost evaluation, between true labels and predicted values\n",
    "def loss_function(y_true, y_pred, loss_type=\"cross_entropy\", epsilon=1e-12):\n",
    "    \"\"\"    \n",
    "    Parameters:\n",
    "    y_true (numpy array): True labels (one-hot encoded or actual values).\n",
    "    y_pred (numpy array): Predicted values (probabilities or actual values).\n",
    "    loss_type (str): Name of the loss function to use.\n",
    "    epsilon (float): Small value to avoid log(0).\n",
    "    \n",
    "    Returns:\n",
    "    float: Computed loss.\n",
    "    \"\"\"\n",
    "    \n",
    "    # Categorical Cross-Entropy Loss (for multi-class classification)\n",
    "    if loss_type == \"cross_entropy\":\n",
    "        # Avoids log(0) by clipping values to be within [epsilon, 1 - epsilon]\n",
    "        y_pred = np.clip(y_pred, epsilon, 1. - epsilon)\n",
    "        return -np.sum(y_true * np.log(y_pred)) / y_true.shape[0]\n",
    "    \n",
    "    elif loss_type == \"binary_cross_entropy\":\n",
    "        # Avoids log(0) by clipping values to be within [epsilon, 1 - epsilon]\n",
    "        y_pred = np.clip(y_pred, epsilon, 1. - epsilon)\n",
    "        return -np.sum(y_true * np.log(y_pred) + (1 - y_true) * np.log(1 - y_pred))\n",
    "\n",
    "    # Mean Squared Error Loss (for regression or classification)\n",
    "    elif loss_type == \"mse\":\n",
    "        return np.mean(np.sum((y_true - y_pred) ** 2, axis=1))\n",
    "\n",
    "    # Hinge Loss (used for binary classification with SVM-like models)\n",
    "    elif loss_type == \"hinge\":\n",
    "        return np.mean(np.maximum(0, 1 - y_true * y_pred))\n",
    "\n",
    "    # Kullback-Leibler Divergence (measures how one probability distribution diverges from another)\n",
    "    elif loss_type == \"kl_div\":\n",
    "        y_pred = np.clip(y_pred, epsilon, 1. - epsilon)  # Avoid log(0)\n",
    "        return np.sum(y_true * np.log(y_true / y_pred)) / y_true.shape[0]\n",
    "\n",
    "    # Focal Loss (addresses class imbalance by focusing more on hard examples)\n",
    "    elif loss_type == \"focal_loss\":\n",
    "        # Focusing parameter (can be adjusted)\n",
    "        gamma = 2.0\n",
    "        \n",
    "        # Avoids log(0) by clipping values to be within [epsilon, 1 - epsilon]\n",
    "        y_pred = np.clip(y_pred, epsilon, 1. - epsilon)\n",
    "        return -np.sum(y_true * (1 - y_pred) ** gamma * np.log(y_pred)) / y_true.shape[0]\n",
    "\n",
    "    else:\n",
    "        raise ValueError(f\"Unsupported loss function: {loss_type}\")\n",
    "    \n",
    "    \n",
    "# Regularisation function to prevent overfitting by penalising large weights\n",
    "def regularisation_term(Theta1, Theta2, reg_type=\"l2\", lamb=0.1):\n",
    "    \"\"\"    \n",
    "    Parameters:\n",
    "    Theta1 (numpy array): Weight matrix for the first layer.\n",
    "    Theta2 (numpy array): Weight matrix for the second layer.\n",
    "    regularisation_type (str): Name of the regularisation method to use.\n",
    "    lamb (float): Regularisation parameter.\n",
    "    \n",
    "    Returns:\n",
    "    float: Computed regularisation term.\n",
    "    \"\"\"\n",
    "    \n",
    "    # L2 Regularisation (penalises large weights)\n",
    "    if reg_type == \"l2\":\n",
    "        reg_term = (lamb / 2) * (np.sum(Theta1[:, 1:] ** 2) + np.sum(Theta2[:, 1:] ** 2))\n",
    "\n",
    "    # L1 Regularisation (penalises the absolute value of weights)\n",
    "    elif reg_type == \"l1\":\n",
    "        reg_term = (lamb / 2) * (np.sum(np.abs(Theta1[:, 1:])) + np.sum(np.abs(Theta2[:, 1:])))\n",
    "\n",
    "    # Elastic Net Regularisation (combination of L1 and L2)\n",
    "    elif reg_type == \"elastic_net\":\n",
    "        # Mixing parameter (0 <= alpha <= 1)\n",
    "        alpha = 0.5\n",
    "        \n",
    "        # Calculate L1 and L2 regularisation terms\n",
    "        l2_term = (1 - alpha) * np.sum(Theta1[:, 1:] ** 2) + np.sum(Theta2[:, 1:] ** 2)\n",
    "        l1_term = alpha * (np.sum(np.abs(Theta1[:, 1:])) + np.sum(np.abs(Theta2[:, 1:])))\n",
    "        reg_term = (lamb / 2) * (l2_term + l1_term)\n",
    "\n",
    "    else:\n",
    "        raise ValueError(f\"Unsupported regularisation type: {reg_type}\")\n",
    "    \n",
    "    return reg_term"
   ]
  },
  {
   "cell_type": "code",
   "execution_count": 11,
   "metadata": {},
   "outputs": [],
   "source": [
    "# Perform forward propagation on the training data maxtrix and weight matrices\n",
    "def forward_propagation(X, Theta1, Theta2):\n",
    "    m = X.shape[0]\n",
    "    ones = np.ones((m, 1))                  # Ones matrix for bias unit (60,000 x 1)\n",
    "    X = np.append(ones, X, axis=1)          # Add bias unit to input layer (60,000 x 785)\n",
    "    a1 = X                                  # Input layer\n",
    "    z2 = np.dot(a1, Theta1.T)               # Compute z2 for hidden layer (60,000 x 100)\n",
    "    a2 = activation_function(z2, 'sigmoid')\n",
    "    a2 = np.append(ones, a2, axis=1)        # Add bias unit to hidden layer (60,000 x 101)\n",
    "    z3 = np.dot(a2, Theta2.T)               # Compute z3 for output layer (60,000 x 10)\n",
    "    a3 = activation_function(z3, 'sigmoid')\n",
    "    \n",
    "    return a1, z2, a2, z3, a3\n",
    "\n",
    "# Calculate the cost function\n",
    "def cost_function(a3, y, Theta1, Theta2, lamb, loss_type=\"binary_cross_entropy\", reg_type=\"l2\"):\n",
    "    # Retrieve the number of samples and labels (60,000, 10)\n",
    "    m = y.shape[0]\n",
    "    num_labels = a3.shape[1]\n",
    "    \n",
    "    # Convert y labels into binary vectors (one-hot encoding)\n",
    "    y_vect = np.zeros((m, num_labels))          # Zeros 60,000 x 10\n",
    "    for i in range(m):                          # For each row in y\n",
    "        y_vect[i, int(y[i])] = 1                # Set the value at the index of the label to 1 (e.g. 5 -> [0, 0, 0, 0, 0, 1, 0, 0, 0, 0])\n",
    "    \n",
    "    # Calculate the cost (loss + regularisation)\n",
    "    loss = loss_function(y_vect, a3, loss_type=loss_type)\n",
    "    reg = regularisation_term(Theta1, Theta2, reg_type=reg_type, lamb=lamb)\n",
    "    J = (loss + reg) / m\n",
    "    \n",
    "    return J\n",
    "\n",
    "# Perform back propagation on the data matrix and weight matrices\n",
    "def back_propagation(a1, z2, a2, a3, y, Theta1, Theta2):\n",
    "    m = y.shape[0]\n",
    "    num_labels = a3.shape[1]\n",
    "    \n",
    "    # Convert y labels into binary vectors\n",
    "    y_vect = np.zeros((m, num_labels))          # Zeros 60,000 x 10\n",
    "    for i in range(m):                          # For each row in y\n",
    "        y_vect[i, int(y[i])] = 1                # Set the value at the index of the label to 1 (e.g. 5 -> [0, 0, 0, 0, 0, 1, 0, 0, 0, 0])\n",
    "    \n",
    "    # Compute deltas\n",
    "    Delta3 = a3 - y_vect\n",
    "    Delta2 = np.dot(Delta3, Theta2) * a2 * (1 - a2)\n",
    "    Delta2 = Delta2[:, 1:]  # Remove bias term from Delta2\n",
    "    \n",
    "    return Delta3, Delta2\n",
    "\n",
    "# Compute the gradients of the cost function\n",
    "def compute_gradients(Delta2, Delta3, a1, a2, Theta1, Theta2, lamb):\n",
    "    m = a1.shape[0]\n",
    "    \n",
    "    # Set the first column of Theta1 and Theta2 to zero (bias terms are not regularized)\n",
    "    Theta1[:, 0] = 0\n",
    "    Theta2[:, 0] = 0\n",
    "    \n",
    "    # Compute the gradients\n",
    "    Theta1_grad = (1 / m) * np.dot(Delta2.T, a1) + (lamb / m) * Theta1\n",
    "    Theta2_grad = (1 / m) * np.dot(Delta3.T, a2) + (lamb / m) * Theta2\n",
    "    \n",
    "    # Flatten gradients to return a single vector\n",
    "    grad = np.concatenate((Theta1_grad.flatten(), Theta2_grad.flatten()))\n",
    "    \n",
    "    return grad\n",
    "\n",
    "# Performs forward propagation to predict the label (digit) of an input image\n",
    "def predict(Theta1, Theta2, X):\n",
    "    # Reshape X to be a 2D array if it's a 1D array\n",
    "    if X.ndim == 1:\n",
    "        X = X.reshape(1, -1)  # Reshape to (1, 784)\n",
    "    \n",
    "    m = X.shape[0] \n",
    "    ones = np.ones((m, 1))                      # Ones matrix for bias unit\n",
    "    X = np.append(ones, X, axis=1)              # Add bias unit to input layer\n",
    "    \n",
    "    z2 = np.dot(X, Theta1.transpose()) \n",
    "    a2 = 1 / (1 + np.exp(-z2))                  # Activation for hidden layer\n",
    "    \n",
    "    ones = np.ones((a2.shape[0], 1))            # Add bias unit to hidden layer\n",
    "    a2 = np.append(ones, a2, axis=1)            # Adding bias unit to hidden layer\n",
    "    \n",
    "    z3 = np.dot(a2, Theta2.transpose()) \n",
    "    a3 = 1 / (1 + np.exp(-z3))                  # Activation for output layer\n",
    "    \n",
    "    p = np.argmax(a3, axis=1)                   # Predict the class\n",
    "    return p"
   ]
  },
  {
   "cell_type": "code",
   "execution_count": 12,
   "metadata": {},
   "outputs": [],
   "source": [
    "# Lists to store errors for plotting\n",
    "train_errors = []\n",
    "test_errors = []\n",
    "iterations = []\n",
    "\n",
    "# Create the neural network model\n",
    "def neural_network(nn_params, input_layer_size, hidden_layer_size, num_labels, X, y, lamb, X_test, y_test):\n",
    "    # Unroll the parameters\n",
    "    Theta1 = np.reshape(nn_params[:hidden_layer_size * (input_layer_size + 1)], (hidden_layer_size, input_layer_size + 1))\n",
    "    Theta2 = np.reshape(nn_params[hidden_layer_size * (input_layer_size + 1):], (num_labels, hidden_layer_size + 1))\n",
    "    \n",
    "    # Forward propagation\n",
    "    a1, z2, a2, z3, a3 = forward_propagation(X, Theta1, Theta2)\n",
    "    \n",
    "    # Cost function\n",
    "    J = cost_function(a3, y, Theta1, Theta2, lamb)\n",
    "    \n",
    "    # Back propagation\n",
    "    Delta3, Delta2 = back_propagation(a1, z2, a2, a3, y, Theta1, Theta2)\n",
    "    \n",
    "    # Compute gradients\n",
    "    grad = compute_gradients(Delta2, Delta3, a1, a2, Theta1, Theta2, lamb)\n",
    "    \n",
    "    # Calculate percentage error for training set\n",
    "    pred_train = predict(Theta1, Theta2, X)\n",
    "    train_error = 100 - np.mean(pred_train == y) * 100\n",
    "    \n",
    "    # Calculate percentage error for test set\n",
    "    pred_test = predict(Theta1, Theta2, X_test)\n",
    "    test_error = 100 - np.mean(pred_test == y_test) * 100\n",
    "    \n",
    "    # Store errors and iteration count for plotting\n",
    "    iterations.append(len(iterations) + 1)\n",
    "    train_errors.append(train_error)\n",
    "    test_errors.append(test_error)\n",
    "    \n",
    "    return J, grad"
   ]
  },
  {
   "cell_type": "markdown",
   "metadata": {},
   "source": [
    "`scipy.optimize.minimize`\n",
    "Generic optimisation function to find the minimum of a scalar function\n",
    "-   Objective Function: cost function of NN\n",
    "-   Initial Guess: initial estimate of params (weights) to optimise\n",
    "-   Method: optimisation algorithm to be used\n",
    "-   Jac: Jacobian (gradient) of objective function\n",
    "-   Options: e.g. number of iterations"
   ]
  },
  {
   "cell_type": "code",
   "execution_count": 13,
   "metadata": {},
   "outputs": [
    {
     "name": "stdout",
     "output_type": "stream",
     "text": [
      "RUNNING THE L-BFGS-B CODE\n",
      "\n",
      "           * * *\n",
      "\n",
      "Machine precision = 2.220D-16\n",
      " N =        79510     M =           10\n",
      "\n",
      "At X0         0 variables are exactly at the bounds\n",
      "\n",
      "At iterate    0    f=  7.45055D+00    |proj g|=  5.91456D-01\n"
     ]
    },
    {
     "name": "stderr",
     "output_type": "stream",
     "text": [
      " This problem is unconstrained.\n"
     ]
    },
    {
     "name": "stdout",
     "output_type": "stream",
     "text": [
      "\n",
      "At iterate    1    f=  3.46419D+00    |proj g|=  7.78994D-02\n",
      "\n",
      "At iterate    2    f=  3.26903D+00    |proj g|=  3.36159D-02\n",
      "\n",
      "At iterate    3    f=  3.20668D+00    |proj g|=  2.25687D-02\n",
      "\n",
      "At iterate    4    f=  3.16320D+00    |proj g|=  2.67551D-02\n",
      "\n",
      "At iterate    5    f=  3.02560D+00    |proj g|=  3.74387D-02\n",
      "\n",
      "At iterate    6    f=  2.68190D+00    |proj g|=  5.97309D-02\n",
      "\n",
      "At iterate    7    f=  1.92999D+00    |proj g|=  7.44993D-02\n",
      "\n",
      "At iterate    8    f=  1.54430D+00    |proj g|=  4.63740D-02\n",
      "\n",
      "At iterate    9    f=  1.42253D+00    |proj g|=  2.46702D-02\n",
      "\n",
      "At iterate   10    f=  1.35782D+00    |proj g|=  1.72022D-02\n",
      "\n",
      "At iterate   11    f=  1.22687D+00    |proj g|=  2.28502D-02\n",
      "\n",
      "At iterate   12    f=  1.14637D+00    |proj g|=  3.94690D-02\n",
      "\n",
      "At iterate   13    f=  1.04076D+00    |proj g|=  1.64140D-02\n",
      "\n",
      "At iterate   14    f=  9.84602D-01    |proj g|=  1.40070D-02\n",
      "\n",
      "At iterate   15    f=  9.20914D-01    |proj g|=  2.07799D-02\n",
      "\n",
      "At iterate   16    f=  8.64837D-01    |proj g|=  1.67005D-02\n",
      "\n",
      "At iterate   17    f=  8.21521D-01    |proj g|=  9.62815D-03\n",
      "\n",
      "At iterate   18    f=  7.68036D-01    |proj g|=  6.80340D-03\n",
      "\n",
      "At iterate   19    f=  7.27263D-01    |proj g|=  1.96616D-02\n",
      "\n",
      "At iterate   20    f=  6.92440D-01    |proj g|=  7.83919D-03\n",
      "\n",
      "At iterate   21    f=  6.63968D-01    |proj g|=  8.92908D-03\n",
      "\n",
      "At iterate   22    f=  6.32585D-01    |proj g|=  1.35480D-02\n",
      "\n",
      "At iterate   23    f=  6.06150D-01    |proj g|=  9.25014D-03\n",
      "\n",
      "At iterate   24    f=  5.90450D-01    |proj g|=  4.76205D-03\n",
      "\n",
      "At iterate   25    f=  5.65596D-01    |proj g|=  5.48009D-03\n",
      "\n",
      "At iterate   26    f=  5.48840D-01    |proj g|=  1.10492D-02\n",
      "\n",
      "At iterate   27    f=  5.32306D-01    |proj g|=  5.71698D-03\n",
      "\n",
      "At iterate   28    f=  5.17284D-01    |proj g|=  3.44220D-03\n",
      "\n",
      "At iterate   29    f=  4.91965D-01    |proj g|=  1.08631D-02\n",
      "\n",
      "At iterate   30    f=  4.76679D-01    |proj g|=  8.59897D-03\n",
      "\n",
      "At iterate   31    f=  4.66192D-01    |proj g|=  4.03732D-03\n",
      "\n",
      "At iterate   32    f=  4.53019D-01    |proj g|=  4.89446D-03\n",
      "\n",
      "At iterate   33    f=  4.41982D-01    |proj g|=  4.98594D-03\n",
      "\n",
      "At iterate   34    f=  4.21498D-01    |proj g|=  8.21734D-03\n",
      "\n",
      "At iterate   35    f=  4.06157D-01    |proj g|=  8.67762D-03\n",
      "\n",
      "At iterate   36    f=  3.92649D-01    |proj g|=  4.27102D-03\n",
      "\n",
      "At iterate   37    f=  3.79570D-01    |proj g|=  3.60320D-03\n",
      "\n",
      "At iterate   38    f=  3.69808D-01    |proj g|=  3.05792D-03\n",
      "\n",
      "At iterate   39    f=  3.55533D-01    |proj g|=  7.14548D-03\n",
      "\n",
      "At iterate   40    f=  3.42801D-01    |proj g|=  3.47789D-03\n",
      "\n",
      "At iterate   41    f=  3.36943D-01    |proj g|=  2.63848D-03\n",
      "\n",
      "At iterate   42    f=  3.30344D-01    |proj g|=  2.52091D-03\n",
      "\n",
      "At iterate   43    f=  3.23641D-01    |proj g|=  8.08707D-03\n",
      "\n",
      "At iterate   44    f=  3.14107D-01    |proj g|=  4.46520D-03\n",
      "\n",
      "At iterate   45    f=  3.00846D-01    |proj g|=  1.42688D-03\n",
      "\n",
      "At iterate   46    f=  2.93903D-01    |proj g|=  1.84983D-03\n",
      "\n",
      "At iterate   47    f=  2.84215D-01    |proj g|=  5.72811D-03\n",
      "\n",
      "At iterate   48    f=  2.74981D-01    |proj g|=  2.96413D-03\n",
      "\n",
      "At iterate   49    f=  2.70661D-01    |proj g|=  2.01638D-03\n",
      "\n",
      "At iterate   50    f=  2.62717D-01    |proj g|=  2.25768D-03\n",
      "\n",
      "At iterate   51    f=  2.57540D-01    |proj g|=  4.80129D-03\n",
      "\n",
      "At iterate   52    f=  2.50943D-01    |proj g|=  2.79711D-03\n",
      "\n",
      "At iterate   53    f=  2.44391D-01    |proj g|=  1.19237D-03\n",
      "\n",
      "At iterate   54    f=  2.40231D-01    |proj g|=  1.51222D-03\n",
      "\n",
      "At iterate   55    f=  2.33173D-01    |proj g|=  3.41715D-03\n",
      "\n",
      "At iterate   56    f=  2.27525D-01    |proj g|=  3.89572D-03\n",
      "\n",
      "At iterate   57    f=  2.22315D-01    |proj g|=  1.22101D-03\n",
      "\n",
      "At iterate   58    f=  2.17644D-01    |proj g|=  1.85636D-03\n",
      "\n",
      "At iterate   59    f=  2.13825D-01    |proj g|=  2.20591D-03\n",
      "\n",
      "At iterate   60    f=  2.08160D-01    |proj g|=  5.37266D-03\n",
      "\n",
      "At iterate   61    f=  2.01981D-01    |proj g|=  1.94531D-03\n",
      "\n",
      "At iterate   62    f=  1.98787D-01    |proj g|=  9.35929D-04\n",
      "\n",
      "At iterate   63    f=  1.95177D-01    |proj g|=  1.44629D-03\n",
      "\n",
      "At iterate   64    f=  1.90984D-01    |proj g|=  1.62152D-03\n",
      "\n",
      "At iterate   65    f=  1.84538D-01    |proj g|=  1.53321D-03\n",
      "\n",
      "At iterate   66    f=  1.81072D-01    |proj g|=  3.51130D-03\n",
      "\n",
      "At iterate   67    f=  1.76107D-01    |proj g|=  1.35878D-03\n",
      "\n",
      "At iterate   68    f=  1.72382D-01    |proj g|=  7.76151D-04\n",
      "\n",
      "At iterate   69    f=  1.67152D-01    |proj g|=  2.11923D-03\n",
      "\n",
      "At iterate   70    f=  1.62704D-01    |proj g|=  1.57368D-03\n",
      "\n",
      "At iterate   71    f=  1.59022D-01    |proj g|=  9.42480D-04\n",
      "\n",
      "At iterate   72    f=  1.55189D-01    |proj g|=  8.55466D-04\n",
      "\n",
      "At iterate   73    f=  1.52003D-01    |proj g|=  1.31513D-03\n",
      "\n",
      "At iterate   74    f=  1.47661D-01    |proj g|=  1.51982D-03\n",
      "\n",
      "At iterate   75    f=  1.45883D-01    |proj g|=  3.29801D-03\n",
      "\n",
      "At iterate   76    f=  1.42947D-01    |proj g|=  1.07707D-03\n",
      "\n",
      "At iterate   77    f=  1.41121D-01    |proj g|=  5.34676D-04\n",
      "\n",
      "At iterate   78    f=  1.38643D-01    |proj g|=  1.09444D-03\n",
      "\n",
      "At iterate   79    f=  1.34351D-01    |proj g|=  1.87382D-03\n",
      "\n",
      "At iterate   80    f=  1.31641D-01    |proj g|=  2.04286D-03\n",
      "\n",
      "At iterate   81    f=  1.28830D-01    |proj g|=  7.66352D-04\n",
      "\n",
      "At iterate   82    f=  1.25905D-01    |proj g|=  6.04363D-04\n",
      "\n",
      "At iterate   83    f=  1.23094D-01    |proj g|=  1.79121D-03\n",
      "\n",
      "At iterate   84    f=  1.20028D-01    |proj g|=  1.72755D-03\n",
      "\n",
      "At iterate   85    f=  1.17117D-01    |proj g|=  8.56108D-04\n",
      "\n",
      "At iterate   86    f=  1.13996D-01    |proj g|=  8.97440D-04\n",
      "\n",
      "At iterate   87    f=  1.11728D-01    |proj g|=  9.25623D-04\n",
      "\n",
      "At iterate   88    f=  1.09309D-01    |proj g|=  2.65551D-03\n",
      "\n",
      "At iterate   89    f=  1.06579D-01    |proj g|=  6.87579D-04\n",
      "\n",
      "At iterate   90    f=  1.05038D-01    |proj g|=  9.02765D-04\n",
      "\n",
      "At iterate   91    f=  1.03113D-01    |proj g|=  9.51416D-04\n",
      "\n",
      "At iterate   92    f=  9.96545D-02    |proj g|=  1.50938D-03\n",
      "\n",
      "At iterate   93    f=  9.70726D-02    |proj g|=  2.45616D-03\n",
      "\n",
      "At iterate   94    f=  9.48170D-02    |proj g|=  6.81423D-04\n",
      "\n",
      "At iterate   95    f=  9.30501D-02    |proj g|=  7.45199D-04\n",
      "\n",
      "At iterate   96    f=  9.14932D-02    |proj g|=  1.03289D-03\n",
      "\n",
      "At iterate   97    f=  8.98894D-02    |proj g|=  3.37395D-03\n",
      "\n",
      "At iterate   98    f=  8.68096D-02    |proj g|=  7.36880D-04\n",
      "\n",
      "At iterate   99    f=  8.54178D-02    |proj g|=  4.64962D-04\n",
      "\n",
      "At iterate  100    f=  8.34103D-02    |proj g|=  6.12160D-04\n",
      "\n",
      "           * * *\n",
      "\n",
      "Tit   = total number of iterations\n",
      "Tnf   = total number of function evaluations\n",
      "Tnint = total number of segments explored during Cauchy searches\n",
      "Skip  = number of BFGS updates skipped\n",
      "Nact  = number of active bounds at final generalized Cauchy point\n",
      "Projg = norm of the final projected gradient\n",
      "F     = final function value\n",
      "\n",
      "           * * *\n",
      "\n",
      "   N    Tit     Tnf  Tnint  Skip  Nact     Projg        F\n",
      "79510    100    105      1     0     0   6.122D-04   8.341D-02\n",
      "  F =   8.3410293288990064E-002\n",
      "\n",
      "STOP: TOTAL NO. of ITERATIONS REACHED LIMIT                 \n",
      "  message: STOP: TOTAL NO. of ITERATIONS REACHED LIMIT\n",
      "  success: False\n",
      "   status: 1\n",
      "      fun: 0.08341029328899006\n",
      "        x: [-9.113e-02 -7.005e-02 ... -2.766e+00  2.438e+00]\n",
      "      nit: 100\n",
      "      jac: [-1.166e-04 -1.167e-07 ... -1.081e-04 -2.172e-04]\n",
      "     nfev: 105\n",
      "     njev: 105\n",
      " hess_inv: <79510x79510 LbfgsInvHessProduct with dtype=float64>\n"
     ]
    },
    {
     "data": {
      "image/png": "[encoded data removed]",
      "text/plain": [
       "<Figure size 640x480 with 1 Axes>"
      ]
     },
     "metadata": {},
     "output_type": "display_data"
    }
   ],
   "source": [
    "# Package all arguments into a tuple for optimisation function\n",
    "myargs = (input_layer_size, hidden_layer_size, num_labels, X_train, y_train, lambda_reg, X_test, y_test)\n",
    "\n",
    "# Minimise the cost function using the L-BFGS-B optimisation algorithm\n",
    "results = minimize(neural_network, x0=initial_nn_params, args=myargs, options={'disp': True, 'maxiter': maxiter}, method='L-BFGS-B', jac=True)\n",
    "print(results)\n",
    "\n",
    "# Plot the training and test errors\n",
    "plt.plot(iterations, train_errors, label='Training Error')\n",
    "plt.plot(iterations, test_errors, label='Test Error')\n",
    "plt.xlabel('Number of Iterations')\n",
    "plt.ylabel('Percentage Error')\n",
    "plt.title('Training and Test Errors vs. Iterations')\n",
    "plt.legend()\n",
    "plt.show()"
   ]
  },
  {
   "cell_type": "markdown",
   "metadata": {},
   "source": [
    "`Objective / Cost function`\n",
    "| Variable | Definition                                                                     |\n",
    "| -------- | -------                                                                        |\n",
    "| N        | total number of variables (parameters, weights)                                |\n",
    "| M        | number of corrections (updates) stored in memory by the algorithm              |\n",
    "| X0       | none of the variables are at their bounds                                      |\n",
    "| f        | current value of cost function                                                 |\n",
    "| proj g   | norm of projected gradient (how close optimisation is to a stationary point)   |\n",
    "| success  | whether optimisation converged or not (did not)                                |\n",
    "| fun      | value of cost function @ final params                                          |\n",
    "| x        | final values of params (weights)                                               |\n",
    "| nit      | number of iterations performed                                                 |\n",
    "| jac      | gradient of cost function @ final params                                       |\n",
    "| nfev     | # times cost function was evaluated                                            |\n",
    "| njev     | # times gradient was evaluated                                                 |\n",
    "| hess_inv | inverse of the approx Hessian matrix @ final point (helps understand curvature)|"
   ]
  },
  {
   "cell_type": "code",
   "execution_count": 14,
   "metadata": {},
   "outputs": [
    {
     "name": "stdout",
     "output_type": "stream",
     "text": [
      "Optimised weights: \n",
      " [-0.09112507 -0.07004774  0.05365012 ... -2.5326524  -2.76564081\n",
      "  2.43783505] \n",
      " (79510,)\n"
     ]
    }
   ],
   "source": [
    "# Extract the optimised weights (trained Theta)\n",
    "nn_params = results[\"x\"]\n",
    "print(\"Optimised weights: \\n\", nn_params, \"\\n\", nn_params.shape)"
   ]
  },
  {
   "cell_type": "code",
   "execution_count": 15,
   "metadata": {},
   "outputs": [
    {
     "name": "stdout",
     "output_type": "stream",
     "text": [
      "(100, 785) (10, 101)\n"
     ]
    }
   ],
   "source": [
    "# Split weights back into Theta1 (100 x 785) and Theta2 (10 x 101)\n",
    "Theta1 = np.reshape(nn_params[:(hidden_layer_size * (input_layer_size + 1))], (hidden_layer_size, (input_layer_size + 1)))\n",
    "Theta2 = np.reshape(nn_params[(hidden_layer_size * (input_layer_size + 1)):], (num_labels, (hidden_layer_size + 1)))\n",
    "print(Theta1.shape, Theta2.shape)\n",
    "\n",
    "# Save Thetas in .txt files: (100 x 785) and (10 x 101)\n",
    "np.savetxt('Theta1.txt', Theta1, delimiter=' ') \n",
    "np.savetxt('Theta2.txt', Theta2, delimiter=' ')"
   ]
  },
  {
   "cell_type": "code",
   "execution_count": 16,
   "metadata": {},
   "outputs": [
    {
     "name": "stdout",
     "output_type": "stream",
     "text": [
      "Training Set Statistics:\n",
      "+-------+--------------------+-------+--------------+\n",
      "| Digit | Misclassifications | Total | Accuracy (%) |\n",
      "+-------+--------------------+-------+--------------+\n",
      "|   0   |         11         |  5923 |    99.81     |\n",
      "|   1   |         28         |  6742 |    99.58     |\n",
      "|   2   |         42         |  5958 |    99.30     |\n",
      "|   3   |         72         |  6131 |    98.83     |\n",
      "|   4   |         39         |  5842 |    99.33     |\n",
      "|   5   |         47         |  5421 |    99.13     |\n",
      "|   6   |         19         |  5918 |    99.68     |\n",
      "|   7   |         36         |  6265 |    99.43     |\n",
      "|   8   |         45         |  5851 |    99.23     |\n",
      "|   9   |         74         |  5949 |    98.76     |\n",
      "| TOTAL |        413         | 60000 |    99.31     |\n",
      "+-------+--------------------+-------+--------------+\n",
      "\n",
      "Test Set Statistics:\n",
      "+-------+--------------------+-------+--------------+\n",
      "| Digit | Misclassifications | Total | Accuracy (%) |\n",
      "+-------+--------------------+-------+--------------+\n",
      "|   0   |         14         |  980  |    98.57     |\n",
      "|   1   |         11         |  1135 |    99.03     |\n",
      "|   2   |         31         |  1032 |    97.00     |\n",
      "|   3   |         23         |  1010 |    97.72     |\n",
      "|   4   |         32         |  982  |    96.74     |\n",
      "|   5   |         34         |  892  |    96.19     |\n",
      "|   6   |         21         |  958  |    97.81     |\n",
      "|   7   |         28         |  1028 |    97.28     |\n",
      "|   8   |         26         |  974  |    97.33     |\n",
      "|   9   |         40         |  1009 |    96.04     |\n",
      "| TOTAL |        260         | 10000 |    97.40     |\n",
      "+-------+--------------------+-------+--------------+\n"
     ]
    }
   ],
   "source": [
    "# Function to count misclassifications and calculate accuracy\n",
    "def count_misclassifications(y_true, y_pred, num_labels=10):\n",
    "    # Initialize a dictionary to store the count of misclassifications for each digit\n",
    "    misclassifications = {i: 0 for i in range(num_labels)}\n",
    "    \n",
    "    # Iterate through all the true labels and predictions\n",
    "    for true_label, pred_label in zip(y_true, y_pred):\n",
    "        if true_label != pred_label:\n",
    "            misclassifications[true_label] += 1\n",
    "    \n",
    "    # Calculate the total number of misclassifications\n",
    "    total_misclassifications = sum(misclassifications.values())\n",
    "    \n",
    "    return misclassifications, total_misclassifications\n",
    "\n",
    "# Initialize the table\n",
    "table_train = PrettyTable()\n",
    "table_train.field_names = [\"Digit\", \"Misclassifications\", \"Total\", \"Accuracy (%)\"]\n",
    "\n",
    "# Predict and count misclassifications in the training set\n",
    "pred_train = predict(Theta1, Theta2, X_train)\n",
    "misclassifications_train, total_misclassifications_train = count_misclassifications(y_train, pred_train)\n",
    "\n",
    "# Add rows for each digit\n",
    "for digit, count in misclassifications_train.items():\n",
    "    total_digit = len(y_train[y_train == digit])\n",
    "    accuracy = 100 * (total_digit - count) / total_digit\n",
    "    table_train.add_row([digit, count, total_digit, f\"{accuracy:.2f}\"])\n",
    "\n",
    "# Add the total row\n",
    "total_train = len(y_train)\n",
    "overall_accuracy_train = 100 * (total_train - total_misclassifications_train) / total_train\n",
    "table_train.add_row([\"TOTAL\", total_misclassifications_train, total_train, f\"{overall_accuracy_train:.2f}\"])\n",
    "\n",
    "# Print the table for training set\n",
    "print(\"Training Set Statistics:\")\n",
    "print(table_train)\n",
    "\n",
    "# Repeat for the test set\n",
    "table_test = PrettyTable()\n",
    "table_test.field_names = [\"Digit\", \"Misclassifications\", \"Total\", \"Accuracy (%)\"]\n",
    "\n",
    "pred_test = predict(Theta1, Theta2, X_test)\n",
    "misclassifications_test, total_misclassifications_test = count_misclassifications(y_test, pred_test)\n",
    "\n",
    "for digit, count in misclassifications_test.items():\n",
    "    total_digit = len(y_test[y_test == digit])\n",
    "    accuracy = 100 * (total_digit - count) / total_digit\n",
    "    table_test.add_row([digit, count, total_digit, f\"{accuracy:.2f}\"])\n",
    "\n",
    "total_test = len(y_test)\n",
    "overall_accuracy_test = 100 * (total_test - total_misclassifications_test) / total_test\n",
    "table_test.add_row([\"TOTAL\", total_misclassifications_test, total_test, f\"{overall_accuracy_test:.2f}\"])\n",
    "\n",
    "print(\"\\nTest Set Statistics:\")\n",
    "print(table_test)\n"
   ]
  },
  {
   "cell_type": "code",
   "execution_count": 17,
   "metadata": {},
   "outputs": [
    {
     "data": {
      "image/png": "[encoded data removed]",
      "text/plain": [
       "<Figure size 640x480 with 1 Axes>"
      ]
     },
     "metadata": {},
     "output_type": "display_data"
    },
    {
     "name": "stdout",
     "output_type": "stream",
     "text": [
      "[0]\n"
     ]
    },
    {
     "data": {
      "image/png": "[encoded data removed]",
      "text/plain": [
       "<Figure size 640x480 with 1 Axes>"
      ]
     },
     "metadata": {},
     "output_type": "display_data"
    },
    {
     "name": "stdout",
     "output_type": "stream",
     "text": [
      "[2]\n"
     ]
    },
    {
     "data": {
      "image/png": "[encoded data removed]",
      "text/plain": [
       "<Figure size 640x480 with 1 Axes>"
      ]
     },
     "metadata": {},
     "output_type": "display_data"
    },
    {
     "name": "stdout",
     "output_type": "stream",
     "text": [
      "[3]\n"
     ]
    },
    {
     "data": {
      "image/png": "[encoded data removed]",
      "text/plain": [
       "<Figure size 640x480 with 1 Axes>"
      ]
     },
     "metadata": {},
     "output_type": "display_data"
    },
    {
     "name": "stdout",
     "output_type": "stream",
     "text": [
      "[0]\n"
     ]
    },
    {
     "data": {
      "image/png": "[encoded data removed]",
      "text/plain": [
       "<Figure size 640x480 with 1 Axes>"
      ]
     },
     "metadata": {},
     "output_type": "display_data"
    },
    {
     "name": "stdout",
     "output_type": "stream",
     "text": [
      "[1]\n"
     ]
    },
    {
     "data": {
      "image/png": "[encoded data removed]",
      "text/plain": [
       "<Figure size 640x480 with 1 Axes>"
      ]
     },
     "metadata": {},
     "output_type": "display_data"
    },
    {
     "name": "stdout",
     "output_type": "stream",
     "text": [
      "[7]\n"
     ]
    },
    {
     "data": {
      "image/png": "[encoded data removed]",
      "text/plain": [
       "<Figure size 640x480 with 1 Axes>"
      ]
     },
     "metadata": {},
     "output_type": "display_data"
    },
    {
     "name": "stdout",
     "output_type": "stream",
     "text": [
      "[5]\n"
     ]
    },
    {
     "data": {
      "image/png": "[encoded data removed]",
      "text/plain": [
       "<Figure size 640x480 with 1 Axes>"
      ]
     },
     "metadata": {},
     "output_type": "display_data"
    },
    {
     "name": "stdout",
     "output_type": "stream",
     "text": [
      "[2]\n"
     ]
    },
    {
     "data": {
      "image/png": "[encoded data removed]",
      "text/plain": [
       "<Figure size 640x480 with 1 Axes>"
      ]
     },
     "metadata": {},
     "output_type": "display_data"
    },
    {
     "name": "stdout",
     "output_type": "stream",
     "text": [
      "[7]\n"
     ]
    },
    {
     "data": {
      "image/png": "[encoded data removed]",
      "text/plain": [
       "<Figure size 640x480 with 1 Axes>"
      ]
     },
     "metadata": {},
     "output_type": "display_data"
    },
    {
     "name": "stdout",
     "output_type": "stream",
     "text": [
      "[3]\n"
     ]
    },
    {
     "data": {
      "image/png": "[encoded data removed]",
      "text/plain": [
       "<Figure size 640x480 with 1 Axes>"
      ]
     },
     "metadata": {},
     "output_type": "display_data"
    },
    {
     "name": "stdout",
     "output_type": "stream",
     "text": [
      "[4]\n"
     ]
    },
    {
     "data": {
      "image/png": "[encoded data removed]",
      "text/plain": [
       "<Figure size 640x480 with 1 Axes>"
      ]
     },
     "metadata": {},
     "output_type": "display_data"
    },
    {
     "name": "stdout",
     "output_type": "stream",
     "text": [
      "[3]\n"
     ]
    },
    {
     "data": {
      "image/png": "[encoded data removed]",
      "text/plain": [
       "<Figure size 640x480 with 1 Axes>"
      ]
     },
     "metadata": {},
     "output_type": "display_data"
    },
    {
     "name": "stdout",
     "output_type": "stream",
     "text": [
      "[2]\n"
     ]
    },
    {
     "data": {
      "image/png": "[encoded data removed]",
      "text/plain": [
       "<Figure size 640x480 with 1 Axes>"
      ]
     },
     "metadata": {},
     "output_type": "display_data"
    },
    {
     "name": "stdout",
     "output_type": "stream",
     "text": [
      "[5]\n"
     ]
    },
    {
     "data": {
      "image/png": "[encoded data removed]",
      "text/plain": [
       "<Figure size 640x480 with 1 Axes>"
      ]
     },
     "metadata": {},
     "output_type": "display_data"
    },
    {
     "name": "stdout",
     "output_type": "stream",
     "text": [
      "[7]\n"
     ]
    },
    {
     "data": {
      "image/png": "[encoded data removed]",
      "text/plain": [
       "<Figure size 640x480 with 1 Axes>"
      ]
     },
     "metadata": {},
     "output_type": "display_data"
    },
    {
     "name": "stdout",
     "output_type": "stream",
     "text": [
      "[6]\n"
     ]
    },
    {
     "data": {
      "image/png": "[encoded data removed]",
      "text/plain": [
       "<Figure size 640x480 with 1 Axes>"
      ]
     },
     "metadata": {},
     "output_type": "display_data"
    },
    {
     "name": "stdout",
     "output_type": "stream",
     "text": [
      "[7]\n"
     ]
    },
    {
     "data": {
      "image/png": "[encoded data removed]",
      "text/plain": [
       "<Figure size 640x480 with 1 Axes>"
      ]
     },
     "metadata": {},
     "output_type": "display_data"
    },
    {
     "name": "stdout",
     "output_type": "stream",
     "text": [
      "[8]\n"
     ]
    },
    {
     "data": {
      "image/png": "[encoded data removed]",
      "text/plain": [
       "<Figure size 640x480 with 1 Axes>"
      ]
     },
     "metadata": {},
     "output_type": "display_data"
    },
    {
     "name": "stdout",
     "output_type": "stream",
     "text": [
      "[9]\n"
     ]
    }
   ],
   "source": [
    "# Pop up widget to draw digit and output model prediction\n",
    "window = Tk()\n",
    "window.title(\"Handwritten digit recognition\")\n",
    "l1 = Label()\n",
    "\n",
    "def Predictor():\n",
    "    global l1\n",
    "\n",
    "    # Get the widget (canvas) coordinates relative to the screen\n",
    "    widget = cv\n",
    "    x = widget.winfo_rootx()\n",
    "    y = widget.winfo_rooty()\n",
    "    x1 = x + widget.winfo_width()\n",
    "    y1 = y + widget.winfo_height()\n",
    "\n",
    "    # Capture the image from the canvas only using the exact coordinates\n",
    "    img = ImageGrab.grab(bbox=(x, y, x1, y1)).resize((28, 28))\n",
    "\n",
    "    # Convert to grayscale\n",
    "    img = img.convert('L')\n",
    "\n",
    "    # Display the captured image to verify\n",
    "    plt.imshow(np.asarray(img), cmap='gray')\n",
    "    plt.show()\n",
    "\n",
    "    # Convert the image to a vector\n",
    "    vec = np.asarray(img).flatten()\n",
    "\n",
    "    # Load the pre-trained Thetas\n",
    "    Theta1 = np.loadtxt('Theta1.txt')\n",
    "    Theta2 = np.loadtxt('Theta2.txt')\n",
    "\n",
    "    # Normalize the vector and make a prediction\n",
    "    pred = predict(Theta1, Theta2, vec / 255)\n",
    "    print(pred)\n",
    "\n",
    "    # Display the prediction result\n",
    "    l1 = Label(window, text=\"Digit = \" + str(pred[0]), font=('Algerian', 20))\n",
    "    l1.place(x=230, y=420)\n",
    "\n",
    "\n",
    "lastx, lasty = None, None\n",
    "\n",
    "# Clears the canvas\n",
    "def clear_widget():\n",
    "\tglobal cv, l1\n",
    "\tcv.delete(\"all\")\n",
    "\tl1.destroy()\n",
    "\n",
    "# Activate canvas\n",
    "def event_activation(event):\n",
    "\tglobal lastx, lasty\n",
    "\tcv.bind('<B1-Motion>', draw_lines)\n",
    "\tlastx, lasty = event.x, event.y\n",
    "\n",
    "# To draw on canvas\n",
    "def draw_lines(event):\n",
    "\tglobal lastx, lasty\n",
    "\tx, y = event.x, event.y\n",
    "\tcv.create_line((lastx, lasty, x, y), width=30, fill='white', capstyle=ROUND, smooth=TRUE, splinesteps=12)\n",
    "\tlastx, lasty = x, y\n",
    "\n",
    "# Label\n",
    "L1 = Label(window, text=\"Handwritten Digit Recoginition\", font=('Algerian', 25), fg=\"blue\")\n",
    "L1.place(x=35, y=10)\n",
    "\n",
    "# Button to clear canvas\n",
    "b1 = Button(window, text=\"1. Clear Canvas\", font=('Algerian', 15), bg=\"orange\", fg=\"black\", command=clear_widget)\n",
    "b1.place(x=120, y=370)\n",
    "\n",
    "# Button to predict digit drawn on canvas\n",
    "b2 = Button(window, text=\"2. Prediction\", font=('Algerian', 15), bg=\"white\", fg=\"red\", command=Predictor)\n",
    "b2.place(x=320, y=370)\n",
    "\n",
    "# Setting properties of canvas\n",
    "cv = Canvas(window, width=350, height=290, bg='black')\n",
    "cv.place(x=120, y=70)\n",
    "\n",
    "cv.bind('<Button-1>', event_activation)\n",
    "window.geometry(\"600x500\")\n",
    "window.mainloop()\n"
   ]
  },
  {
   "cell_type": "markdown",
   "metadata": {},
   "source": [
    "## EVALUATION\n",
    "-   MNIST dataset are 28x28, grayscaled, centred -> app needs for centred drawings otherwise it fails\n",
    "-   MUST preprocess image by aligning it central before letting app guess the digit\n",
    "-   When user clicks prediction\n",
    "    1.  Extract screenshot of drawing\n",
    "    2.  Crop around drawing\n",
    "    3.  Find centre point (centre of mass)\n",
    "    4.  Shift image to centre the digit\n",
    "    5.  Run prediction algorithm on this centred image"
   ]
  },
  {
   "cell_type": "markdown",
   "metadata": {},
   "source": []
  }
 ],
 "metadata": {
  "kernelspec": {
   "display_name": ".venv",
   "language": "python",
   "name": "python3"
  },
  "language_info": {
   "codemirror_mode": {
    "name": "ipython",
    "version": 3
   },
   "file_extension": ".py",
   "mimetype": "text/x-python",
   "name": "python",
   "nbconvert_exporter": "python",
   "pygments_lexer": "ipython3",
   "version": "3.12.4"
  }
 },
 "nbformat": 4,
 "nbformat_minor": 2
}
